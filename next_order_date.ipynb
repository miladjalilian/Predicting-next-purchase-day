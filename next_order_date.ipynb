{
 "cells": [
  {
   "cell_type": "code",
   "execution_count": 1,
   "metadata": {},
   "outputs": [],
   "source": [
    "from __future__ import division\n",
    "from datetime import datetime, timedelta,date\n",
    "import pandas as pd\n",
    "%matplotlib inline\n",
    "from sklearn.metrics import classification_report,confusion_matrix\n",
    "import matplotlib.pyplot as plt\n",
    "import numpy as np\n",
    "import seaborn as sns\n",
    "from sklearn.cluster import KMeans"
   ]
  },
  {
   "cell_type": "code",
   "execution_count": 2,
   "metadata": {},
   "outputs": [],
   "source": [
    "import warnings\n",
    "warnings.filterwarnings(\"ignore\")"
   ]
  },
  {
   "cell_type": "code",
   "execution_count": null,
   "metadata": {},
   "outputs": [],
   "source": []
  },
  {
   "cell_type": "code",
   "execution_count": 3,
   "metadata": {},
   "outputs": [],
   "source": [
    "from sklearn.svm import SVC\n",
    "from sklearn.multioutput import MultiOutputClassifier\n",
    "from sklearn.ensemble import GradientBoostingClassifier\n",
    "from sklearn.tree import DecisionTreeClassifier\n",
    "from sklearn.neighbors import KNeighborsClassifier\n",
    "from sklearn.naive_bayes import GaussianNB\n",
    "from sklearn.ensemble import RandomForestClassifier\n",
    "from sklearn.linear_model import LogisticRegression\n",
    "import xgboost as xgb\n",
    "from sklearn.model_selection import KFold, cross_val_score, train_test_split"
   ]
  },
  {
   "cell_type": "code",
   "execution_count": null,
   "metadata": {},
   "outputs": [],
   "source": []
  },
  {
   "cell_type": "code",
   "execution_count": 4,
   "metadata": {},
   "outputs": [],
   "source": [
    "tx_data = pd.read_csv('E:\\Milad\\data.csv')"
   ]
  },
  {
   "cell_type": "code",
   "execution_count": 5,
   "metadata": {},
   "outputs": [
    {
     "data": {
      "text/plain": [
       "(233048, 9)"
      ]
     },
     "execution_count": 5,
     "metadata": {},
     "output_type": "execute_result"
    }
   ],
   "source": [
    "tx_data.shape"
   ]
  },
  {
   "cell_type": "code",
   "execution_count": 6,
   "metadata": {},
   "outputs": [
    {
     "data": {
      "text/html": [
       "<div>\n",
       "<style scoped>\n",
       "    .dataframe tbody tr th:only-of-type {\n",
       "        vertical-align: middle;\n",
       "    }\n",
       "\n",
       "    .dataframe tbody tr th {\n",
       "        vertical-align: top;\n",
       "    }\n",
       "\n",
       "    .dataframe thead th {\n",
       "        text-align: right;\n",
       "    }\n",
       "</style>\n",
       "<table border=\"1\" class=\"dataframe\">\n",
       "  <thead>\n",
       "    <tr style=\"text-align: right;\">\n",
       "      <th></th>\n",
       "      <th>user_id</th>\n",
       "      <th>order_id</th>\n",
       "      <th>order_date</th>\n",
       "      <th>days_to_next_order</th>\n",
       "      <th>order_value</th>\n",
       "      <th>avg_order_value</th>\n",
       "      <th>avg_order_value_last7</th>\n",
       "      <th>average_frequency_last7</th>\n",
       "      <th>average_frequency</th>\n",
       "    </tr>\n",
       "  </thead>\n",
       "  <tbody>\n",
       "    <tr>\n",
       "      <td>0</td>\n",
       "      <td>5088253</td>\n",
       "      <td>6d9fd50d354a5fe90e1ed8db9a0638e0</td>\n",
       "      <td>2020-10-01</td>\n",
       "      <td>5</td>\n",
       "      <td>794</td>\n",
       "      <td>693</td>\n",
       "      <td>677</td>\n",
       "      <td>68.1429</td>\n",
       "      <td>59.6250</td>\n",
       "    </tr>\n",
       "    <tr>\n",
       "      <td>1</td>\n",
       "      <td>5088253</td>\n",
       "      <td>1a33f8f8a8fd22fc2f339eeb16b0ce9b</td>\n",
       "      <td>2020-10-06</td>\n",
       "      <td>1</td>\n",
       "      <td>101</td>\n",
       "      <td>627</td>\n",
       "      <td>611</td>\n",
       "      <td>3.4286</td>\n",
       "      <td>53.5556</td>\n",
       "    </tr>\n",
       "    <tr>\n",
       "      <td>2</td>\n",
       "      <td>5088253</td>\n",
       "      <td>cc955fe2ca7330f90f9eb091a4ee3537</td>\n",
       "      <td>2020-10-07</td>\n",
       "      <td>1</td>\n",
       "      <td>714</td>\n",
       "      <td>636</td>\n",
       "      <td>634</td>\n",
       "      <td>3.2857</td>\n",
       "      <td>48.3000</td>\n",
       "    </tr>\n",
       "    <tr>\n",
       "      <td>3</td>\n",
       "      <td>5088253</td>\n",
       "      <td>2ad1075b6ec0850b23a09fba5683fad8</td>\n",
       "      <td>2020-10-08</td>\n",
       "      <td>5</td>\n",
       "      <td>913</td>\n",
       "      <td>661</td>\n",
       "      <td>664</td>\n",
       "      <td>3.0000</td>\n",
       "      <td>44.0000</td>\n",
       "    </tr>\n",
       "    <tr>\n",
       "      <td>4</td>\n",
       "      <td>5088253</td>\n",
       "      <td>4da745f11257f8d4c00f49cefca7a7cd</td>\n",
       "      <td>2020-10-13</td>\n",
       "      <td>0</td>\n",
       "      <td>1137</td>\n",
       "      <td>701</td>\n",
       "      <td>684</td>\n",
       "      <td>2.8571</td>\n",
       "      <td>34.9286</td>\n",
       "    </tr>\n",
       "    <tr>\n",
       "      <td>5</td>\n",
       "      <td>5088253</td>\n",
       "      <td>b3b2b05d665e2c7c7b68015877ea4f2c</td>\n",
       "      <td>2020-10-13</td>\n",
       "      <td>0</td>\n",
       "      <td>837</td>\n",
       "      <td>711</td>\n",
       "      <td>609</td>\n",
       "      <td>2.5714</td>\n",
       "      <td>37.6154</td>\n",
       "    </tr>\n",
       "    <tr>\n",
       "      <td>6</td>\n",
       "      <td>5088253</td>\n",
       "      <td>2cb3b6b8a149e099fc4e4118626efa2c</td>\n",
       "      <td>2020-10-13</td>\n",
       "      <td>4</td>\n",
       "      <td>290</td>\n",
       "      <td>681</td>\n",
       "      <td>613</td>\n",
       "      <td>2.4286</td>\n",
       "      <td>40.7500</td>\n",
       "    </tr>\n",
       "    <tr>\n",
       "      <td>7</td>\n",
       "      <td>5088253</td>\n",
       "      <td>840d3bf03be97deab407885724beaa3e</td>\n",
       "      <td>2020-10-17</td>\n",
       "      <td>3</td>\n",
       "      <td>1210</td>\n",
       "      <td>716</td>\n",
       "      <td>743</td>\n",
       "      <td>2.2857</td>\n",
       "      <td>32.8667</td>\n",
       "    </tr>\n",
       "    <tr>\n",
       "      <td>8</td>\n",
       "      <td>5088253</td>\n",
       "      <td>ca6a29932fa14101ea36e0855a3e9dcd</td>\n",
       "      <td>2020-10-20</td>\n",
       "      <td>0</td>\n",
       "      <td>380</td>\n",
       "      <td>695</td>\n",
       "      <td>783</td>\n",
       "      <td>2.0000</td>\n",
       "      <td>31.0000</td>\n",
       "    </tr>\n",
       "    <tr>\n",
       "      <td>9</td>\n",
       "      <td>5088253</td>\n",
       "      <td>ab75f86d2dda1f4ea6a86c97028b5e1a</td>\n",
       "      <td>2020-10-20</td>\n",
       "      <td>3</td>\n",
       "      <td>871</td>\n",
       "      <td>706</td>\n",
       "      <td>805</td>\n",
       "      <td>1.8571</td>\n",
       "      <td>29.1765</td>\n",
       "    </tr>\n",
       "  </tbody>\n",
       "</table>\n",
       "</div>"
      ],
      "text/plain": [
       "   user_id                          order_id  order_date  days_to_next_order  \\\n",
       "0  5088253  6d9fd50d354a5fe90e1ed8db9a0638e0  2020-10-01                   5   \n",
       "1  5088253  1a33f8f8a8fd22fc2f339eeb16b0ce9b  2020-10-06                   1   \n",
       "2  5088253  cc955fe2ca7330f90f9eb091a4ee3537  2020-10-07                   1   \n",
       "3  5088253  2ad1075b6ec0850b23a09fba5683fad8  2020-10-08                   5   \n",
       "4  5088253  4da745f11257f8d4c00f49cefca7a7cd  2020-10-13                   0   \n",
       "5  5088253  b3b2b05d665e2c7c7b68015877ea4f2c  2020-10-13                   0   \n",
       "6  5088253  2cb3b6b8a149e099fc4e4118626efa2c  2020-10-13                   4   \n",
       "7  5088253  840d3bf03be97deab407885724beaa3e  2020-10-17                   3   \n",
       "8  5088253  ca6a29932fa14101ea36e0855a3e9dcd  2020-10-20                   0   \n",
       "9  5088253  ab75f86d2dda1f4ea6a86c97028b5e1a  2020-10-20                   3   \n",
       "\n",
       "   order_value  avg_order_value  avg_order_value_last7  \\\n",
       "0          794              693                    677   \n",
       "1          101              627                    611   \n",
       "2          714              636                    634   \n",
       "3          913              661                    664   \n",
       "4         1137              701                    684   \n",
       "5          837              711                    609   \n",
       "6          290              681                    613   \n",
       "7         1210              716                    743   \n",
       "8          380              695                    783   \n",
       "9          871              706                    805   \n",
       "\n",
       "   average_frequency_last7  average_frequency  \n",
       "0                  68.1429            59.6250  \n",
       "1                   3.4286            53.5556  \n",
       "2                   3.2857            48.3000  \n",
       "3                   3.0000            44.0000  \n",
       "4                   2.8571            34.9286  \n",
       "5                   2.5714            37.6154  \n",
       "6                   2.4286            40.7500  \n",
       "7                   2.2857            32.8667  \n",
       "8                   2.0000            31.0000  \n",
       "9                   1.8571            29.1765  "
      ]
     },
     "execution_count": 6,
     "metadata": {},
     "output_type": "execute_result"
    }
   ],
   "source": [
    "tx_data.head(10)"
   ]
  },
  {
   "cell_type": "code",
   "execution_count": 8,
   "metadata": {},
   "outputs": [],
   "source": [
    "tx_data['order_date'] = pd.to_datetime(tx_data['order_date'])"
   ]
  },
  {
   "cell_type": "code",
   "execution_count": 9,
   "metadata": {},
   "outputs": [
    {
     "data": {
      "text/plain": [
       "count                  233048\n",
       "unique                   2237\n",
       "top       2021-02-25 00:00:00\n",
       "freq                      485\n",
       "first     2014-11-11 00:00:00\n",
       "last      2021-03-06 00:00:00\n",
       "Name: order_date, dtype: object"
      ]
     },
     "execution_count": 9,
     "metadata": {},
     "output_type": "execute_result"
    }
   ],
   "source": [
    "tx_data['order_date'].describe()"
   ]
  },
  {
   "cell_type": "code",
   "execution_count": 7,
   "metadata": {},
   "outputs": [
    {
     "data": {
      "text/plain": [
       "0         2020-10-01\n",
       "1         2020-10-06\n",
       "2         2020-10-07\n",
       "3         2020-10-08\n",
       "4         2020-10-13\n",
       "             ...    \n",
       "233043    2021-02-09\n",
       "233044    2021-02-16\n",
       "233045    2021-02-18\n",
       "233046    2021-02-25\n",
       "233047    2021-02-25\n",
       "Name: order_date, Length: 233048, dtype: object"
      ]
     },
     "execution_count": 7,
     "metadata": {},
     "output_type": "execute_result"
    }
   ],
   "source": [
    "tx_data.order_date"
   ]
  },
  {
   "cell_type": "code",
   "execution_count": 10,
   "metadata": {},
   "outputs": [],
   "source": [
    "tx_6y = tx_data[(tx_data.order_date < date(2020,9,1)) & (tx_data.order_date >= date(2014,11,11))].reset_index(drop=True)\n",
    "tx_next = tx_data[(tx_data.order_date >= date(2020,9,1)) & (tx_data.order_date < date(2021,3,6))].reset_index(drop=True)"
   ]
  },
  {
   "cell_type": "code",
   "execution_count": 11,
   "metadata": {},
   "outputs": [
    {
     "data": {
      "text/plain": [
       "count                   66754\n",
       "unique                    186\n",
       "top       2021-02-25 00:00:00\n",
       "freq                      485\n",
       "first     2020-09-01 00:00:00\n",
       "last      2021-03-05 00:00:00\n",
       "Name: order_date, dtype: object"
      ]
     },
     "execution_count": 11,
     "metadata": {},
     "output_type": "execute_result"
    }
   ],
   "source": [
    "tx_next['order_date'].describe()"
   ]
  },
  {
   "cell_type": "code",
   "execution_count": 12,
   "metadata": {},
   "outputs": [],
   "source": [
    "tx_user = pd.DataFrame(tx_6y['user_id'].unique())\n",
    "tx_user.columns = ['user_id']"
   ]
  },
  {
   "cell_type": "markdown",
   "metadata": {},
   "source": [
    "# Adding label"
   ]
  },
  {
   "cell_type": "code",
   "execution_count": 13,
   "metadata": {},
   "outputs": [],
   "source": [
    "tx_next_first_purchase = tx_next.groupby('user_id').order_date.min().reset_index()"
   ]
  },
  {
   "cell_type": "code",
   "execution_count": 14,
   "metadata": {},
   "outputs": [],
   "source": [
    "tx_next_first_purchase.columns = ['user_id','MinPurchaseDate']"
   ]
  },
  {
   "cell_type": "code",
   "execution_count": 15,
   "metadata": {},
   "outputs": [
    {
     "data": {
      "text/html": [
       "<div>\n",
       "<style scoped>\n",
       "    .dataframe tbody tr th:only-of-type {\n",
       "        vertical-align: middle;\n",
       "    }\n",
       "\n",
       "    .dataframe tbody tr th {\n",
       "        vertical-align: top;\n",
       "    }\n",
       "\n",
       "    .dataframe thead th {\n",
       "        text-align: right;\n",
       "    }\n",
       "</style>\n",
       "<table border=\"1\" class=\"dataframe\">\n",
       "  <thead>\n",
       "    <tr style=\"text-align: right;\">\n",
       "      <th></th>\n",
       "      <th>user_id</th>\n",
       "      <th>MinPurchaseDate</th>\n",
       "    </tr>\n",
       "  </thead>\n",
       "  <tbody>\n",
       "    <tr>\n",
       "      <td>0</td>\n",
       "      <td>1899901</td>\n",
       "      <td>2020-09-01</td>\n",
       "    </tr>\n",
       "    <tr>\n",
       "      <td>1</td>\n",
       "      <td>1960755</td>\n",
       "      <td>2020-09-02</td>\n",
       "    </tr>\n",
       "    <tr>\n",
       "      <td>2</td>\n",
       "      <td>2169787</td>\n",
       "      <td>2020-09-01</td>\n",
       "    </tr>\n",
       "    <tr>\n",
       "      <td>3</td>\n",
       "      <td>2173281</td>\n",
       "      <td>2020-09-01</td>\n",
       "    </tr>\n",
       "    <tr>\n",
       "      <td>4</td>\n",
       "      <td>2327549</td>\n",
       "      <td>2020-09-03</td>\n",
       "    </tr>\n",
       "  </tbody>\n",
       "</table>\n",
       "</div>"
      ],
      "text/plain": [
       "   user_id MinPurchaseDate\n",
       "0  1899901      2020-09-01\n",
       "1  1960755      2020-09-02\n",
       "2  2169787      2020-09-01\n",
       "3  2173281      2020-09-01\n",
       "4  2327549      2020-09-03"
      ]
     },
     "execution_count": 15,
     "metadata": {},
     "output_type": "execute_result"
    }
   ],
   "source": [
    "tx_next_first_purchase.head()"
   ]
  },
  {
   "cell_type": "code",
   "execution_count": 16,
   "metadata": {},
   "outputs": [],
   "source": [
    "tx_last_purchase = tx_6y.groupby('user_id').order_date.max().reset_index()"
   ]
  },
  {
   "cell_type": "code",
   "execution_count": 17,
   "metadata": {},
   "outputs": [],
   "source": [
    "tx_last_purchase.columns = ['user_id','MaxPurchaseDate']"
   ]
  },
  {
   "cell_type": "code",
   "execution_count": 18,
   "metadata": {},
   "outputs": [],
   "source": [
    "tx_purchase_dates = pd.merge(tx_last_purchase,tx_next_first_purchase,on='user_id',how='left')"
   ]
  },
  {
   "cell_type": "code",
   "execution_count": 19,
   "metadata": {},
   "outputs": [],
   "source": [
    "tx_purchase_dates['NextPurchaseDay'] = (tx_purchase_dates['MinPurchaseDate'] - tx_purchase_dates['MaxPurchaseDate']).dt.days\n",
    "\n"
   ]
  },
  {
   "cell_type": "code",
   "execution_count": 20,
   "metadata": {},
   "outputs": [
    {
     "data": {
      "text/html": [
       "<div>\n",
       "<style scoped>\n",
       "    .dataframe tbody tr th:only-of-type {\n",
       "        vertical-align: middle;\n",
       "    }\n",
       "\n",
       "    .dataframe tbody tr th {\n",
       "        vertical-align: top;\n",
       "    }\n",
       "\n",
       "    .dataframe thead th {\n",
       "        text-align: right;\n",
       "    }\n",
       "</style>\n",
       "<table border=\"1\" class=\"dataframe\">\n",
       "  <thead>\n",
       "    <tr style=\"text-align: right;\">\n",
       "      <th></th>\n",
       "      <th>user_id</th>\n",
       "      <th>MaxPurchaseDate</th>\n",
       "      <th>MinPurchaseDate</th>\n",
       "      <th>NextPurchaseDay</th>\n",
       "    </tr>\n",
       "  </thead>\n",
       "  <tbody>\n",
       "    <tr>\n",
       "      <td>0</td>\n",
       "      <td>1899901</td>\n",
       "      <td>2020-08-31</td>\n",
       "      <td>2020-09-01</td>\n",
       "      <td>1</td>\n",
       "    </tr>\n",
       "    <tr>\n",
       "      <td>1</td>\n",
       "      <td>1960755</td>\n",
       "      <td>2020-08-29</td>\n",
       "      <td>2020-09-02</td>\n",
       "      <td>4</td>\n",
       "    </tr>\n",
       "    <tr>\n",
       "      <td>2</td>\n",
       "      <td>2169787</td>\n",
       "      <td>2020-08-26</td>\n",
       "      <td>2020-09-01</td>\n",
       "      <td>6</td>\n",
       "    </tr>\n",
       "    <tr>\n",
       "      <td>3</td>\n",
       "      <td>2173281</td>\n",
       "      <td>2020-08-31</td>\n",
       "      <td>2020-09-01</td>\n",
       "      <td>1</td>\n",
       "    </tr>\n",
       "    <tr>\n",
       "      <td>4</td>\n",
       "      <td>2327549</td>\n",
       "      <td>2020-08-30</td>\n",
       "      <td>2020-09-03</td>\n",
       "      <td>4</td>\n",
       "    </tr>\n",
       "  </tbody>\n",
       "</table>\n",
       "</div>"
      ],
      "text/plain": [
       "   user_id MaxPurchaseDate MinPurchaseDate  NextPurchaseDay\n",
       "0  1899901      2020-08-31      2020-09-01                1\n",
       "1  1960755      2020-08-29      2020-09-02                4\n",
       "2  2169787      2020-08-26      2020-09-01                6\n",
       "3  2173281      2020-08-31      2020-09-01                1\n",
       "4  2327549      2020-08-30      2020-09-03                4"
      ]
     },
     "execution_count": 20,
     "metadata": {},
     "output_type": "execute_result"
    }
   ],
   "source": [
    "tx_purchase_dates.head()"
   ]
  },
  {
   "cell_type": "code",
   "execution_count": 21,
   "metadata": {},
   "outputs": [],
   "source": [
    "tx_user = pd.merge(tx_user, tx_purchase_dates[['user_id','NextPurchaseDay']],on='user_id',how='left')"
   ]
  },
  {
   "cell_type": "code",
   "execution_count": 22,
   "metadata": {},
   "outputs": [
    {
     "data": {
      "text/html": [
       "<div>\n",
       "<style scoped>\n",
       "    .dataframe tbody tr th:only-of-type {\n",
       "        vertical-align: middle;\n",
       "    }\n",
       "\n",
       "    .dataframe tbody tr th {\n",
       "        vertical-align: top;\n",
       "    }\n",
       "\n",
       "    .dataframe thead th {\n",
       "        text-align: right;\n",
       "    }\n",
       "</style>\n",
       "<table border=\"1\" class=\"dataframe\">\n",
       "  <thead>\n",
       "    <tr style=\"text-align: right;\">\n",
       "      <th></th>\n",
       "      <th>user_id</th>\n",
       "      <th>NextPurchaseDay</th>\n",
       "    </tr>\n",
       "  </thead>\n",
       "  <tbody>\n",
       "    <tr>\n",
       "      <td>0</td>\n",
       "      <td>5861481</td>\n",
       "      <td>30</td>\n",
       "    </tr>\n",
       "    <tr>\n",
       "      <td>1</td>\n",
       "      <td>4113453</td>\n",
       "      <td>36</td>\n",
       "    </tr>\n",
       "    <tr>\n",
       "      <td>2</td>\n",
       "      <td>4357445</td>\n",
       "      <td>3</td>\n",
       "    </tr>\n",
       "    <tr>\n",
       "      <td>3</td>\n",
       "      <td>5889917</td>\n",
       "      <td>6</td>\n",
       "    </tr>\n",
       "    <tr>\n",
       "      <td>4</td>\n",
       "      <td>5714669</td>\n",
       "      <td>70</td>\n",
       "    </tr>\n",
       "  </tbody>\n",
       "</table>\n",
       "</div>"
      ],
      "text/plain": [
       "   user_id  NextPurchaseDay\n",
       "0  5861481               30\n",
       "1  4113453               36\n",
       "2  4357445                3\n",
       "3  5889917                6\n",
       "4  5714669               70"
      ]
     },
     "execution_count": 22,
     "metadata": {},
     "output_type": "execute_result"
    }
   ],
   "source": [
    "tx_user.head()"
   ]
  },
  {
   "cell_type": "code",
   "execution_count": 23,
   "metadata": {},
   "outputs": [
    {
     "data": {
      "text/plain": [
       "(1211, 2)"
      ]
     },
     "execution_count": 23,
     "metadata": {},
     "output_type": "execute_result"
    }
   ],
   "source": [
    "tx_user.shape"
   ]
  },
  {
   "cell_type": "code",
   "execution_count": 27,
   "metadata": {},
   "outputs": [
    {
     "data": {
      "text/plain": [
       "user_id            0\n",
       "NextPurchaseDay    0\n",
       "dtype: int64"
      ]
     },
     "execution_count": 27,
     "metadata": {},
     "output_type": "execute_result"
    }
   ],
   "source": [
    "#tx_user.isna().sum()\n",
    "#tx_user = tx_user.fillna(999)"
   ]
  },
  {
   "cell_type": "markdown",
   "metadata": {},
   "source": [
    "# Recency"
   ]
  },
  {
   "cell_type": "code",
   "execution_count": 24,
   "metadata": {},
   "outputs": [],
   "source": [
    "tx_max_purchase = tx_6y.groupby('user_id').order_date.max().reset_index()"
   ]
  },
  {
   "cell_type": "code",
   "execution_count": 25,
   "metadata": {},
   "outputs": [],
   "source": [
    "tx_max_purchase.columns = ['user_id','MaxPurchaseDate']"
   ]
  },
  {
   "cell_type": "code",
   "execution_count": 26,
   "metadata": {},
   "outputs": [],
   "source": [
    "tx_max_purchase['Recency'] = (tx_max_purchase['MaxPurchaseDate'].max() - tx_max_purchase['MaxPurchaseDate']).dt.days"
   ]
  },
  {
   "cell_type": "code",
   "execution_count": 27,
   "metadata": {},
   "outputs": [],
   "source": [
    "tx_user = pd.merge(tx_user, tx_max_purchase[['user_id','Recency']], on='user_id')"
   ]
  },
  {
   "cell_type": "code",
   "execution_count": 28,
   "metadata": {},
   "outputs": [
    {
     "data": {
      "text/html": [
       "<div>\n",
       "<style scoped>\n",
       "    .dataframe tbody tr th:only-of-type {\n",
       "        vertical-align: middle;\n",
       "    }\n",
       "\n",
       "    .dataframe tbody tr th {\n",
       "        vertical-align: top;\n",
       "    }\n",
       "\n",
       "    .dataframe thead th {\n",
       "        text-align: right;\n",
       "    }\n",
       "</style>\n",
       "<table border=\"1\" class=\"dataframe\">\n",
       "  <thead>\n",
       "    <tr style=\"text-align: right;\">\n",
       "      <th></th>\n",
       "      <th>user_id</th>\n",
       "      <th>NextPurchaseDay</th>\n",
       "      <th>Recency</th>\n",
       "    </tr>\n",
       "  </thead>\n",
       "  <tbody>\n",
       "    <tr>\n",
       "      <td>0</td>\n",
       "      <td>5861481</td>\n",
       "      <td>30</td>\n",
       "      <td>24</td>\n",
       "    </tr>\n",
       "    <tr>\n",
       "      <td>1</td>\n",
       "      <td>4113453</td>\n",
       "      <td>36</td>\n",
       "      <td>27</td>\n",
       "    </tr>\n",
       "    <tr>\n",
       "      <td>2</td>\n",
       "      <td>4357445</td>\n",
       "      <td>3</td>\n",
       "      <td>1</td>\n",
       "    </tr>\n",
       "    <tr>\n",
       "      <td>3</td>\n",
       "      <td>5889917</td>\n",
       "      <td>6</td>\n",
       "      <td>2</td>\n",
       "    </tr>\n",
       "    <tr>\n",
       "      <td>4</td>\n",
       "      <td>5714669</td>\n",
       "      <td>70</td>\n",
       "      <td>44</td>\n",
       "    </tr>\n",
       "  </tbody>\n",
       "</table>\n",
       "</div>"
      ],
      "text/plain": [
       "   user_id  NextPurchaseDay  Recency\n",
       "0  5861481               30       24\n",
       "1  4113453               36       27\n",
       "2  4357445                3        1\n",
       "3  5889917                6        2\n",
       "4  5714669               70       44"
      ]
     },
     "execution_count": 28,
     "metadata": {},
     "output_type": "execute_result"
    }
   ],
   "source": [
    "tx_user.head()"
   ]
  },
  {
   "cell_type": "code",
   "execution_count": 29,
   "metadata": {},
   "outputs": [
    {
     "data": {
      "text/plain": [
       "count    1211.000000\n",
       "mean       13.173410\n",
       "std        54.564524\n",
       "min         0.000000\n",
       "25%         1.000000\n",
       "50%         3.000000\n",
       "75%         8.000000\n",
       "max      1065.000000\n",
       "Name: Recency, dtype: float64"
      ]
     },
     "execution_count": 29,
     "metadata": {},
     "output_type": "execute_result"
    }
   ],
   "source": [
    "tx_user.Recency.describe()"
   ]
  },
  {
   "cell_type": "code",
   "execution_count": 30,
   "metadata": {},
   "outputs": [
    {
     "data": {
      "image/png": "[encoded data removed]",
      "text/plain": [
       "<Figure size 432x288 with 1 Axes>"
      ]
     },
     "metadata": {
      "needs_background": "light"
     },
     "output_type": "display_data"
    }
   ],
   "source": [
    "sse={}\n",
    "tx_recency = tx_user[['Recency']]\n",
    "for k in range(1, 10):\n",
    "    kmeans = KMeans(n_clusters=k, max_iter=1000).fit(tx_recency)\n",
    "    tx_recency[\"clusters\"] = kmeans.labels_\n",
    "    sse[k] = kmeans.inertia_ \n",
    "plt.figure()\n",
    "plt.plot(list(sse.keys()), list(sse.values()))\n",
    "plt.xlabel(\"Number of cluster\")\n",
    "plt.show()"
   ]
  },
  {
   "cell_type": "code",
   "execution_count": 31,
   "metadata": {},
   "outputs": [],
   "source": [
    "kmeans = KMeans(n_clusters=4)\n",
    "kmeans.fit(tx_user[['Recency']])\n",
    "tx_user['RecencyCluster'] = kmeans.predict(tx_user[['Recency']])"
   ]
  },
  {
   "cell_type": "code",
   "execution_count": 32,
   "metadata": {},
   "outputs": [],
   "source": [
    "def order_cluster(cluster_field_name, target_field_name,df,ascending):\n",
    "    new_cluster_field_name = 'new_' + cluster_field_name\n",
    "    df_new = df.groupby(cluster_field_name)[target_field_name].mean().reset_index()\n",
    "    df_new = df_new.sort_values(by=target_field_name,ascending=ascending).reset_index(drop=True)\n",
    "    df_new['index'] = df_new.index\n",
    "    df_final = pd.merge(df,df_new[[cluster_field_name,'index']], on=cluster_field_name)\n",
    "    df_final = df_final.drop([cluster_field_name],axis=1)\n",
    "    df_final = df_final.rename(columns={\"index\":cluster_field_name})\n",
    "    return df_final\n"
   ]
  },
  {
   "cell_type": "code",
   "execution_count": 33,
   "metadata": {},
   "outputs": [],
   "source": [
    "tx_user = order_cluster('RecencyCluster', 'Recency',tx_user,False)"
   ]
  },
  {
   "cell_type": "code",
   "execution_count": 34,
   "metadata": {},
   "outputs": [
    {
     "data": {
      "text/html": [
       "<div>\n",
       "<style scoped>\n",
       "    .dataframe tbody tr th:only-of-type {\n",
       "        vertical-align: middle;\n",
       "    }\n",
       "\n",
       "    .dataframe tbody tr th {\n",
       "        vertical-align: top;\n",
       "    }\n",
       "\n",
       "    .dataframe thead th {\n",
       "        text-align: right;\n",
       "    }\n",
       "</style>\n",
       "<table border=\"1\" class=\"dataframe\">\n",
       "  <thead>\n",
       "    <tr style=\"text-align: right;\">\n",
       "      <th></th>\n",
       "      <th>count</th>\n",
       "      <th>mean</th>\n",
       "      <th>std</th>\n",
       "      <th>min</th>\n",
       "      <th>25%</th>\n",
       "      <th>50%</th>\n",
       "      <th>75%</th>\n",
       "      <th>max</th>\n",
       "    </tr>\n",
       "    <tr>\n",
       "      <th>RecencyCluster</th>\n",
       "      <th></th>\n",
       "      <th></th>\n",
       "      <th></th>\n",
       "      <th></th>\n",
       "      <th></th>\n",
       "      <th></th>\n",
       "      <th></th>\n",
       "      <th></th>\n",
       "    </tr>\n",
       "  </thead>\n",
       "  <tbody>\n",
       "    <tr>\n",
       "      <td>0</td>\n",
       "      <td>3.0</td>\n",
       "      <td>896.000000</td>\n",
       "      <td>146.365980</td>\n",
       "      <td>810.0</td>\n",
       "      <td>811.50</td>\n",
       "      <td>813.0</td>\n",
       "      <td>939.0</td>\n",
       "      <td>1065.0</td>\n",
       "    </tr>\n",
       "    <tr>\n",
       "      <td>1</td>\n",
       "      <td>3.0</td>\n",
       "      <td>455.333333</td>\n",
       "      <td>60.451082</td>\n",
       "      <td>402.0</td>\n",
       "      <td>422.50</td>\n",
       "      <td>443.0</td>\n",
       "      <td>482.0</td>\n",
       "      <td>521.0</td>\n",
       "    </tr>\n",
       "    <tr>\n",
       "      <td>2</td>\n",
       "      <td>48.0</td>\n",
       "      <td>103.479167</td>\n",
       "      <td>43.046234</td>\n",
       "      <td>56.0</td>\n",
       "      <td>67.75</td>\n",
       "      <td>98.5</td>\n",
       "      <td>122.5</td>\n",
       "      <td>207.0</td>\n",
       "    </tr>\n",
       "    <tr>\n",
       "      <td>3</td>\n",
       "      <td>1157.0</td>\n",
       "      <td>5.991357</td>\n",
       "      <td>8.798096</td>\n",
       "      <td>0.0</td>\n",
       "      <td>1.00</td>\n",
       "      <td>3.0</td>\n",
       "      <td>7.0</td>\n",
       "      <td>53.0</td>\n",
       "    </tr>\n",
       "  </tbody>\n",
       "</table>\n",
       "</div>"
      ],
      "text/plain": [
       "                 count        mean         std    min     25%    50%    75%  \\\n",
       "RecencyCluster                                                                \n",
       "0                  3.0  896.000000  146.365980  810.0  811.50  813.0  939.0   \n",
       "1                  3.0  455.333333   60.451082  402.0  422.50  443.0  482.0   \n",
       "2                 48.0  103.479167   43.046234   56.0   67.75   98.5  122.5   \n",
       "3               1157.0    5.991357    8.798096    0.0    1.00    3.0    7.0   \n",
       "\n",
       "                   max  \n",
       "RecencyCluster          \n",
       "0               1065.0  \n",
       "1                521.0  \n",
       "2                207.0  \n",
       "3                 53.0  "
      ]
     },
     "execution_count": 34,
     "metadata": {},
     "output_type": "execute_result"
    }
   ],
   "source": [
    "tx_user.groupby('RecencyCluster')['Recency'].describe()"
   ]
  },
  {
   "cell_type": "markdown",
   "metadata": {},
   "source": [
    "# Frequency"
   ]
  },
  {
   "cell_type": "code",
   "execution_count": 36,
   "metadata": {},
   "outputs": [],
   "source": [
    "tx_frequency = tx_6y.groupby('user_id').order_date.count().reset_index()"
   ]
  },
  {
   "cell_type": "code",
   "execution_count": 37,
   "metadata": {},
   "outputs": [],
   "source": [
    "tx_frequency.columns = ['user_id','Frequency']"
   ]
  },
  {
   "cell_type": "code",
   "execution_count": 38,
   "metadata": {},
   "outputs": [
    {
     "data": {
      "text/html": [
       "<div>\n",
       "<style scoped>\n",
       "    .dataframe tbody tr th:only-of-type {\n",
       "        vertical-align: middle;\n",
       "    }\n",
       "\n",
       "    .dataframe tbody tr th {\n",
       "        vertical-align: top;\n",
       "    }\n",
       "\n",
       "    .dataframe thead th {\n",
       "        text-align: right;\n",
       "    }\n",
       "</style>\n",
       "<table border=\"1\" class=\"dataframe\">\n",
       "  <thead>\n",
       "    <tr style=\"text-align: right;\">\n",
       "      <th></th>\n",
       "      <th>user_id</th>\n",
       "      <th>Frequency</th>\n",
       "    </tr>\n",
       "  </thead>\n",
       "  <tbody>\n",
       "    <tr>\n",
       "      <td>0</td>\n",
       "      <td>1899901</td>\n",
       "      <td>521</td>\n",
       "    </tr>\n",
       "    <tr>\n",
       "      <td>1</td>\n",
       "      <td>1960755</td>\n",
       "      <td>430</td>\n",
       "    </tr>\n",
       "    <tr>\n",
       "      <td>2</td>\n",
       "      <td>2169787</td>\n",
       "      <td>158</td>\n",
       "    </tr>\n",
       "    <tr>\n",
       "      <td>3</td>\n",
       "      <td>2173281</td>\n",
       "      <td>79</td>\n",
       "    </tr>\n",
       "    <tr>\n",
       "      <td>4</td>\n",
       "      <td>2327549</td>\n",
       "      <td>379</td>\n",
       "    </tr>\n",
       "  </tbody>\n",
       "</table>\n",
       "</div>"
      ],
      "text/plain": [
       "   user_id  Frequency\n",
       "0  1899901        521\n",
       "1  1960755        430\n",
       "2  2169787        158\n",
       "3  2173281         79\n",
       "4  2327549        379"
      ]
     },
     "execution_count": 38,
     "metadata": {},
     "output_type": "execute_result"
    }
   ],
   "source": [
    "tx_frequency.head()"
   ]
  },
  {
   "cell_type": "code",
   "execution_count": 39,
   "metadata": {},
   "outputs": [],
   "source": [
    "tx_user = pd.merge(tx_user, tx_frequency, on='user_id')"
   ]
  },
  {
   "cell_type": "code",
   "execution_count": 40,
   "metadata": {},
   "outputs": [
    {
     "data": {
      "text/html": [
       "<div>\n",
       "<style scoped>\n",
       "    .dataframe tbody tr th:only-of-type {\n",
       "        vertical-align: middle;\n",
       "    }\n",
       "\n",
       "    .dataframe tbody tr th {\n",
       "        vertical-align: top;\n",
       "    }\n",
       "\n",
       "    .dataframe thead th {\n",
       "        text-align: right;\n",
       "    }\n",
       "</style>\n",
       "<table border=\"1\" class=\"dataframe\">\n",
       "  <thead>\n",
       "    <tr style=\"text-align: right;\">\n",
       "      <th></th>\n",
       "      <th>user_id</th>\n",
       "      <th>NextPurchaseDay</th>\n",
       "      <th>Recency</th>\n",
       "      <th>RecencyCluster</th>\n",
       "      <th>Frequency</th>\n",
       "    </tr>\n",
       "  </thead>\n",
       "  <tbody>\n",
       "    <tr>\n",
       "      <td>0</td>\n",
       "      <td>5861481</td>\n",
       "      <td>30</td>\n",
       "      <td>24</td>\n",
       "      <td>3</td>\n",
       "      <td>2</td>\n",
       "    </tr>\n",
       "    <tr>\n",
       "      <td>1</td>\n",
       "      <td>4113453</td>\n",
       "      <td>36</td>\n",
       "      <td>27</td>\n",
       "      <td>3</td>\n",
       "      <td>67</td>\n",
       "    </tr>\n",
       "    <tr>\n",
       "      <td>2</td>\n",
       "      <td>4357445</td>\n",
       "      <td>3</td>\n",
       "      <td>1</td>\n",
       "      <td>3</td>\n",
       "      <td>88</td>\n",
       "    </tr>\n",
       "    <tr>\n",
       "      <td>3</td>\n",
       "      <td>5889917</td>\n",
       "      <td>6</td>\n",
       "      <td>2</td>\n",
       "      <td>3</td>\n",
       "      <td>38</td>\n",
       "    </tr>\n",
       "    <tr>\n",
       "      <td>4</td>\n",
       "      <td>5714669</td>\n",
       "      <td>70</td>\n",
       "      <td>44</td>\n",
       "      <td>3</td>\n",
       "      <td>2</td>\n",
       "    </tr>\n",
       "  </tbody>\n",
       "</table>\n",
       "</div>"
      ],
      "text/plain": [
       "   user_id  NextPurchaseDay  Recency  RecencyCluster  Frequency\n",
       "0  5861481               30       24               3          2\n",
       "1  4113453               36       27               3         67\n",
       "2  4357445                3        1               3         88\n",
       "3  5889917                6        2               3         38\n",
       "4  5714669               70       44               3          2"
      ]
     },
     "execution_count": 40,
     "metadata": {},
     "output_type": "execute_result"
    }
   ],
   "source": [
    "tx_user.head()"
   ]
  },
  {
   "cell_type": "code",
   "execution_count": 41,
   "metadata": {},
   "outputs": [
    {
     "data": {
      "text/plain": [
       "count    1211.000000\n",
       "mean      137.317093\n",
       "std       163.095516\n",
       "min         1.000000\n",
       "25%        34.000000\n",
       "50%        88.000000\n",
       "75%       187.500000\n",
       "max      2551.000000\n",
       "Name: Frequency, dtype: float64"
      ]
     },
     "execution_count": 41,
     "metadata": {},
     "output_type": "execute_result"
    }
   ],
   "source": [
    "tx_user.Frequency.describe()"
   ]
  },
  {
   "cell_type": "code",
   "execution_count": 42,
   "metadata": {},
   "outputs": [
    {
     "data": {
      "image/png": "[encoded data removed]",
      "text/plain": [
       "<Figure size 432x288 with 1 Axes>"
      ]
     },
     "metadata": {
      "needs_background": "light"
     },
     "output_type": "display_data"
    }
   ],
   "source": [
    "sse={}\n",
    "tx_frequency = tx_user[['Frequency']]\n",
    "for k in range(1, 10):\n",
    "    kmeans = KMeans(n_clusters=k, max_iter=1000).fit(tx_frequency)\n",
    "    tx_frequency[\"clusters\"] = kmeans.labels_\n",
    "    sse[k] = kmeans.inertia_ \n",
    "plt.figure()\n",
    "plt.plot(list(sse.keys()), list(sse.values()))\n",
    "plt.xlabel(\"Number of cluster\")\n",
    "plt.show()"
   ]
  },
  {
   "cell_type": "code",
   "execution_count": 43,
   "metadata": {},
   "outputs": [],
   "source": [
    "kmeans = KMeans(n_clusters=4)\n",
    "kmeans.fit(tx_user[['Frequency']])\n",
    "tx_user['FrequencyCluster'] = kmeans.predict(tx_user[['Frequency']])"
   ]
  },
  {
   "cell_type": "code",
   "execution_count": 44,
   "metadata": {},
   "outputs": [
    {
     "data": {
      "text/html": [
       "<div>\n",
       "<style scoped>\n",
       "    .dataframe tbody tr th:only-of-type {\n",
       "        vertical-align: middle;\n",
       "    }\n",
       "\n",
       "    .dataframe tbody tr th {\n",
       "        vertical-align: top;\n",
       "    }\n",
       "\n",
       "    .dataframe thead th {\n",
       "        text-align: right;\n",
       "    }\n",
       "</style>\n",
       "<table border=\"1\" class=\"dataframe\">\n",
       "  <thead>\n",
       "    <tr style=\"text-align: right;\">\n",
       "      <th></th>\n",
       "      <th>count</th>\n",
       "      <th>mean</th>\n",
       "      <th>std</th>\n",
       "      <th>min</th>\n",
       "      <th>25%</th>\n",
       "      <th>50%</th>\n",
       "      <th>75%</th>\n",
       "      <th>max</th>\n",
       "    </tr>\n",
       "    <tr>\n",
       "      <th>FrequencyCluster</th>\n",
       "      <th></th>\n",
       "      <th></th>\n",
       "      <th></th>\n",
       "      <th></th>\n",
       "      <th></th>\n",
       "      <th></th>\n",
       "      <th></th>\n",
       "      <th></th>\n",
       "    </tr>\n",
       "  </thead>\n",
       "  <tbody>\n",
       "    <tr>\n",
       "      <td>0</td>\n",
       "      <td>335.0</td>\n",
       "      <td>230.397015</td>\n",
       "      <td>64.626152</td>\n",
       "      <td>144.0</td>\n",
       "      <td>177.00</td>\n",
       "      <td>217.0</td>\n",
       "      <td>272.0</td>\n",
       "      <td>396.0</td>\n",
       "    </tr>\n",
       "    <tr>\n",
       "      <td>1</td>\n",
       "      <td>801.0</td>\n",
       "      <td>55.936330</td>\n",
       "      <td>39.294461</td>\n",
       "      <td>1.0</td>\n",
       "      <td>22.00</td>\n",
       "      <td>48.0</td>\n",
       "      <td>87.0</td>\n",
       "      <td>142.0</td>\n",
       "    </tr>\n",
       "    <tr>\n",
       "      <td>2</td>\n",
       "      <td>1.0</td>\n",
       "      <td>2551.000000</td>\n",
       "      <td>NaN</td>\n",
       "      <td>2551.0</td>\n",
       "      <td>2551.00</td>\n",
       "      <td>2551.0</td>\n",
       "      <td>2551.0</td>\n",
       "      <td>2551.0</td>\n",
       "    </tr>\n",
       "    <tr>\n",
       "      <td>3</td>\n",
       "      <td>74.0</td>\n",
       "      <td>564.216216</td>\n",
       "      <td>167.039104</td>\n",
       "      <td>401.0</td>\n",
       "      <td>438.25</td>\n",
       "      <td>496.0</td>\n",
       "      <td>655.0</td>\n",
       "      <td>1172.0</td>\n",
       "    </tr>\n",
       "  </tbody>\n",
       "</table>\n",
       "</div>"
      ],
      "text/plain": [
       "                  count         mean         std     min      25%     50%  \\\n",
       "FrequencyCluster                                                            \n",
       "0                 335.0   230.397015   64.626152   144.0   177.00   217.0   \n",
       "1                 801.0    55.936330   39.294461     1.0    22.00    48.0   \n",
       "2                   1.0  2551.000000         NaN  2551.0  2551.00  2551.0   \n",
       "3                  74.0   564.216216  167.039104   401.0   438.25   496.0   \n",
       "\n",
       "                     75%     max  \n",
       "FrequencyCluster                  \n",
       "0                  272.0   396.0  \n",
       "1                   87.0   142.0  \n",
       "2                 2551.0  2551.0  \n",
       "3                  655.0  1172.0  "
      ]
     },
     "execution_count": 44,
     "metadata": {},
     "output_type": "execute_result"
    }
   ],
   "source": [
    "tx_user.groupby('FrequencyCluster')['Frequency'].describe()"
   ]
  },
  {
   "cell_type": "code",
   "execution_count": 45,
   "metadata": {},
   "outputs": [],
   "source": [
    "tx_user = order_cluster('FrequencyCluster', 'Frequency',tx_user,True)"
   ]
  },
  {
   "cell_type": "markdown",
   "metadata": {},
   "source": [
    "# Revenue"
   ]
  },
  {
   "cell_type": "code",
   "execution_count": 46,
   "metadata": {},
   "outputs": [],
   "source": [
    "tx_revenue = tx_6y.groupby('user_id').order_value.sum().reset_index()"
   ]
  },
  {
   "cell_type": "code",
   "execution_count": 47,
   "metadata": {},
   "outputs": [
    {
     "data": {
      "text/html": [
       "<div>\n",
       "<style scoped>\n",
       "    .dataframe tbody tr th:only-of-type {\n",
       "        vertical-align: middle;\n",
       "    }\n",
       "\n",
       "    .dataframe tbody tr th {\n",
       "        vertical-align: top;\n",
       "    }\n",
       "\n",
       "    .dataframe thead th {\n",
       "        text-align: right;\n",
       "    }\n",
       "</style>\n",
       "<table border=\"1\" class=\"dataframe\">\n",
       "  <thead>\n",
       "    <tr style=\"text-align: right;\">\n",
       "      <th></th>\n",
       "      <th>user_id</th>\n",
       "      <th>order_value</th>\n",
       "    </tr>\n",
       "  </thead>\n",
       "  <tbody>\n",
       "    <tr>\n",
       "      <td>0</td>\n",
       "      <td>1899901</td>\n",
       "      <td>360466</td>\n",
       "    </tr>\n",
       "    <tr>\n",
       "      <td>1</td>\n",
       "      <td>1960755</td>\n",
       "      <td>189576</td>\n",
       "    </tr>\n",
       "    <tr>\n",
       "      <td>2</td>\n",
       "      <td>2169787</td>\n",
       "      <td>194054</td>\n",
       "    </tr>\n",
       "    <tr>\n",
       "      <td>3</td>\n",
       "      <td>2173281</td>\n",
       "      <td>77857</td>\n",
       "    </tr>\n",
       "    <tr>\n",
       "      <td>4</td>\n",
       "      <td>2327549</td>\n",
       "      <td>284140</td>\n",
       "    </tr>\n",
       "  </tbody>\n",
       "</table>\n",
       "</div>"
      ],
      "text/plain": [
       "   user_id  order_value\n",
       "0  1899901       360466\n",
       "1  1960755       189576\n",
       "2  2169787       194054\n",
       "3  2173281        77857\n",
       "4  2327549       284140"
      ]
     },
     "execution_count": 47,
     "metadata": {},
     "output_type": "execute_result"
    }
   ],
   "source": [
    "tx_revenue.head()"
   ]
  },
  {
   "cell_type": "code",
   "execution_count": 48,
   "metadata": {},
   "outputs": [],
   "source": [
    "tx_user = pd.merge(tx_user, tx_revenue, on='user_id')"
   ]
  },
  {
   "cell_type": "code",
   "execution_count": 49,
   "metadata": {},
   "outputs": [
    {
     "data": {
      "text/plain": [
       "count    1.211000e+03\n",
       "mean     1.902568e+05\n",
       "std      2.869937e+05\n",
       "min      4.070000e+02\n",
       "25%      4.270250e+04\n",
       "50%      1.072010e+05\n",
       "75%      2.576620e+05\n",
       "max      5.254312e+06\n",
       "Name: order_value, dtype: float64"
      ]
     },
     "execution_count": 49,
     "metadata": {},
     "output_type": "execute_result"
    }
   ],
   "source": [
    "tx_user.order_value.describe()"
   ]
  },
  {
   "cell_type": "code",
   "execution_count": 50,
   "metadata": {},
   "outputs": [
    {
     "data": {
      "image/png": "[encoded data removed]",
      "text/plain": [
       "<Figure size 432x288 with 1 Axes>"
      ]
     },
     "metadata": {
      "needs_background": "light"
     },
     "output_type": "display_data"
    }
   ],
   "source": [
    "sse={}\n",
    "tx_revenue = tx_user[['order_value']]\n",
    "for k in range(1, 10):\n",
    "    kmeans = KMeans(n_clusters=k, max_iter=1000).fit(tx_revenue)\n",
    "    tx_revenue[\"clusters\"] = kmeans.labels_\n",
    "    sse[k] = kmeans.inertia_ \n",
    "plt.figure()\n",
    "plt.plot(list(sse.keys()), list(sse.values()))\n",
    "plt.xlabel(\"Number of cluster\")\n",
    "plt.show()"
   ]
  },
  {
   "cell_type": "code",
   "execution_count": 51,
   "metadata": {},
   "outputs": [],
   "source": [
    "kmeans = KMeans(n_clusters=4)\n",
    "kmeans.fit(tx_user[['order_value']])\n",
    "tx_user['RevenueCluster'] = kmeans.predict(tx_user[['order_value']])"
   ]
  },
  {
   "cell_type": "code",
   "execution_count": 52,
   "metadata": {},
   "outputs": [],
   "source": [
    "tx_user = order_cluster('RevenueCluster', 'order_value',tx_user,True)"
   ]
  },
  {
   "cell_type": "code",
   "execution_count": 53,
   "metadata": {},
   "outputs": [
    {
     "data": {
      "text/html": [
       "<div>\n",
       "<style scoped>\n",
       "    .dataframe tbody tr th:only-of-type {\n",
       "        vertical-align: middle;\n",
       "    }\n",
       "\n",
       "    .dataframe tbody tr th {\n",
       "        vertical-align: top;\n",
       "    }\n",
       "\n",
       "    .dataframe thead th {\n",
       "        text-align: right;\n",
       "    }\n",
       "</style>\n",
       "<table border=\"1\" class=\"dataframe\">\n",
       "  <thead>\n",
       "    <tr style=\"text-align: right;\">\n",
       "      <th></th>\n",
       "      <th>count</th>\n",
       "      <th>mean</th>\n",
       "      <th>std</th>\n",
       "      <th>min</th>\n",
       "      <th>25%</th>\n",
       "      <th>50%</th>\n",
       "      <th>75%</th>\n",
       "      <th>max</th>\n",
       "    </tr>\n",
       "    <tr>\n",
       "      <th>RevenueCluster</th>\n",
       "      <th></th>\n",
       "      <th></th>\n",
       "      <th></th>\n",
       "      <th></th>\n",
       "      <th></th>\n",
       "      <th></th>\n",
       "      <th></th>\n",
       "      <th></th>\n",
       "    </tr>\n",
       "  </thead>\n",
       "  <tbody>\n",
       "    <tr>\n",
       "      <td>0</td>\n",
       "      <td>805.0</td>\n",
       "      <td>6.993538e+04</td>\n",
       "      <td>5.104773e+04</td>\n",
       "      <td>407.0</td>\n",
       "      <td>25883.00</td>\n",
       "      <td>58121.0</td>\n",
       "      <td>106434.00</td>\n",
       "      <td>185663.0</td>\n",
       "    </tr>\n",
       "    <tr>\n",
       "      <td>1</td>\n",
       "      <td>312.0</td>\n",
       "      <td>3.022080e+05</td>\n",
       "      <td>7.936619e+04</td>\n",
       "      <td>186286.0</td>\n",
       "      <td>240279.25</td>\n",
       "      <td>282663.5</td>\n",
       "      <td>358501.25</td>\n",
       "      <td>503639.0</td>\n",
       "    </tr>\n",
       "    <tr>\n",
       "      <td>2</td>\n",
       "      <td>90.0</td>\n",
       "      <td>7.309258e+05</td>\n",
       "      <td>2.302233e+05</td>\n",
       "      <td>517888.0</td>\n",
       "      <td>575476.50</td>\n",
       "      <td>657117.0</td>\n",
       "      <td>793107.25</td>\n",
       "      <td>1733222.0</td>\n",
       "    </tr>\n",
       "    <tr>\n",
       "      <td>3</td>\n",
       "      <td>4.0</td>\n",
       "      <td>3.507700e+06</td>\n",
       "      <td>1.290411e+06</td>\n",
       "      <td>2327950.0</td>\n",
       "      <td>2668000.75</td>\n",
       "      <td>3224269.0</td>\n",
       "      <td>4063968.25</td>\n",
       "      <td>5254312.0</td>\n",
       "    </tr>\n",
       "  </tbody>\n",
       "</table>\n",
       "</div>"
      ],
      "text/plain": [
       "                count          mean           std        min         25%  \\\n",
       "RevenueCluster                                                             \n",
       "0               805.0  6.993538e+04  5.104773e+04      407.0    25883.00   \n",
       "1               312.0  3.022080e+05  7.936619e+04   186286.0   240279.25   \n",
       "2                90.0  7.309258e+05  2.302233e+05   517888.0   575476.50   \n",
       "3                 4.0  3.507700e+06  1.290411e+06  2327950.0  2668000.75   \n",
       "\n",
       "                      50%         75%        max  \n",
       "RevenueCluster                                    \n",
       "0                 58121.0   106434.00   185663.0  \n",
       "1                282663.5   358501.25   503639.0  \n",
       "2                657117.0   793107.25  1733222.0  \n",
       "3               3224269.0  4063968.25  5254312.0  "
      ]
     },
     "execution_count": 53,
     "metadata": {},
     "output_type": "execute_result"
    }
   ],
   "source": [
    "tx_user.groupby('RevenueCluster')['order_value'].describe()"
   ]
  },
  {
   "cell_type": "markdown",
   "metadata": {},
   "source": [
    "# Overall Segmentation"
   ]
  },
  {
   "cell_type": "code",
   "execution_count": 54,
   "metadata": {},
   "outputs": [
    {
     "data": {
      "text/html": [
       "<div>\n",
       "<style scoped>\n",
       "    .dataframe tbody tr th:only-of-type {\n",
       "        vertical-align: middle;\n",
       "    }\n",
       "\n",
       "    .dataframe tbody tr th {\n",
       "        vertical-align: top;\n",
       "    }\n",
       "\n",
       "    .dataframe thead th {\n",
       "        text-align: right;\n",
       "    }\n",
       "</style>\n",
       "<table border=\"1\" class=\"dataframe\">\n",
       "  <thead>\n",
       "    <tr style=\"text-align: right;\">\n",
       "      <th></th>\n",
       "      <th>user_id</th>\n",
       "      <th>NextPurchaseDay</th>\n",
       "      <th>Recency</th>\n",
       "      <th>RecencyCluster</th>\n",
       "      <th>Frequency</th>\n",
       "      <th>FrequencyCluster</th>\n",
       "      <th>order_value</th>\n",
       "      <th>RevenueCluster</th>\n",
       "    </tr>\n",
       "  </thead>\n",
       "  <tbody>\n",
       "    <tr>\n",
       "      <td>0</td>\n",
       "      <td>5861481</td>\n",
       "      <td>30</td>\n",
       "      <td>24</td>\n",
       "      <td>3</td>\n",
       "      <td>2</td>\n",
       "      <td>0</td>\n",
       "      <td>1438</td>\n",
       "      <td>0</td>\n",
       "    </tr>\n",
       "    <tr>\n",
       "      <td>1</td>\n",
       "      <td>4113453</td>\n",
       "      <td>36</td>\n",
       "      <td>27</td>\n",
       "      <td>3</td>\n",
       "      <td>67</td>\n",
       "      <td>0</td>\n",
       "      <td>65116</td>\n",
       "      <td>0</td>\n",
       "    </tr>\n",
       "    <tr>\n",
       "      <td>2</td>\n",
       "      <td>4357445</td>\n",
       "      <td>3</td>\n",
       "      <td>1</td>\n",
       "      <td>3</td>\n",
       "      <td>88</td>\n",
       "      <td>0</td>\n",
       "      <td>83900</td>\n",
       "      <td>0</td>\n",
       "    </tr>\n",
       "    <tr>\n",
       "      <td>3</td>\n",
       "      <td>5889917</td>\n",
       "      <td>6</td>\n",
       "      <td>2</td>\n",
       "      <td>3</td>\n",
       "      <td>38</td>\n",
       "      <td>0</td>\n",
       "      <td>29965</td>\n",
       "      <td>0</td>\n",
       "    </tr>\n",
       "    <tr>\n",
       "      <td>4</td>\n",
       "      <td>5714669</td>\n",
       "      <td>70</td>\n",
       "      <td>44</td>\n",
       "      <td>3</td>\n",
       "      <td>2</td>\n",
       "      <td>0</td>\n",
       "      <td>513</td>\n",
       "      <td>0</td>\n",
       "    </tr>\n",
       "  </tbody>\n",
       "</table>\n",
       "</div>"
      ],
      "text/plain": [
       "   user_id  NextPurchaseDay  Recency  RecencyCluster  Frequency  \\\n",
       "0  5861481               30       24               3          2   \n",
       "1  4113453               36       27               3         67   \n",
       "2  4357445                3        1               3         88   \n",
       "3  5889917                6        2               3         38   \n",
       "4  5714669               70       44               3          2   \n",
       "\n",
       "   FrequencyCluster  order_value  RevenueCluster  \n",
       "0                 0         1438               0  \n",
       "1                 0        65116               0  \n",
       "2                 0        83900               0  \n",
       "3                 0        29965               0  \n",
       "4                 0          513               0  "
      ]
     },
     "execution_count": 54,
     "metadata": {},
     "output_type": "execute_result"
    }
   ],
   "source": [
    "tx_user.head()"
   ]
  },
  {
   "cell_type": "code",
   "execution_count": 55,
   "metadata": {},
   "outputs": [],
   "source": [
    "tx_user['OverallScore'] = tx_user['RecencyCluster'] + tx_user['FrequencyCluster'] + tx_user['RevenueCluster']"
   ]
  },
  {
   "cell_type": "code",
   "execution_count": 56,
   "metadata": {},
   "outputs": [
    {
     "data": {
      "text/html": [
       "<div>\n",
       "<style scoped>\n",
       "    .dataframe tbody tr th:only-of-type {\n",
       "        vertical-align: middle;\n",
       "    }\n",
       "\n",
       "    .dataframe tbody tr th {\n",
       "        vertical-align: top;\n",
       "    }\n",
       "\n",
       "    .dataframe thead th {\n",
       "        text-align: right;\n",
       "    }\n",
       "</style>\n",
       "<table border=\"1\" class=\"dataframe\">\n",
       "  <thead>\n",
       "    <tr style=\"text-align: right;\">\n",
       "      <th></th>\n",
       "      <th>Recency</th>\n",
       "      <th>Frequency</th>\n",
       "      <th>order_value</th>\n",
       "    </tr>\n",
       "    <tr>\n",
       "      <th>OverallScore</th>\n",
       "      <th></th>\n",
       "      <th></th>\n",
       "      <th></th>\n",
       "    </tr>\n",
       "  </thead>\n",
       "  <tbody>\n",
       "    <tr>\n",
       "      <td>0</td>\n",
       "      <td>896.000000</td>\n",
       "      <td>10.333333</td>\n",
       "      <td>1.000700e+04</td>\n",
       "    </tr>\n",
       "    <tr>\n",
       "      <td>1</td>\n",
       "      <td>455.333333</td>\n",
       "      <td>6.333333</td>\n",
       "      <td>7.185000e+03</td>\n",
       "    </tr>\n",
       "    <tr>\n",
       "      <td>2</td>\n",
       "      <td>105.727273</td>\n",
       "      <td>26.000000</td>\n",
       "      <td>3.215227e+04</td>\n",
       "    </tr>\n",
       "    <tr>\n",
       "      <td>3</td>\n",
       "      <td>7.905386</td>\n",
       "      <td>53.516739</td>\n",
       "      <td>6.621387e+04</td>\n",
       "    </tr>\n",
       "    <tr>\n",
       "      <td>4</td>\n",
       "      <td>5.073529</td>\n",
       "      <td>147.220588</td>\n",
       "      <td>1.949689e+05</td>\n",
       "    </tr>\n",
       "    <tr>\n",
       "      <td>5</td>\n",
       "      <td>3.800905</td>\n",
       "      <td>232.723982</td>\n",
       "      <td>3.083818e+05</td>\n",
       "    </tr>\n",
       "    <tr>\n",
       "      <td>6</td>\n",
       "      <td>3.169231</td>\n",
       "      <td>371.307692</td>\n",
       "      <td>5.554470e+05</td>\n",
       "    </tr>\n",
       "    <tr>\n",
       "      <td>7</td>\n",
       "      <td>1.541667</td>\n",
       "      <td>569.041667</td>\n",
       "      <td>8.050580e+05</td>\n",
       "    </tr>\n",
       "    <tr>\n",
       "      <td>8</td>\n",
       "      <td>2.000000</td>\n",
       "      <td>959.000000</td>\n",
       "      <td>2.925496e+06</td>\n",
       "    </tr>\n",
       "    <tr>\n",
       "      <td>9</td>\n",
       "      <td>0.000000</td>\n",
       "      <td>2551.000000</td>\n",
       "      <td>5.254312e+06</td>\n",
       "    </tr>\n",
       "  </tbody>\n",
       "</table>\n",
       "</div>"
      ],
      "text/plain": [
       "                 Recency    Frequency   order_value\n",
       "OverallScore                                       \n",
       "0             896.000000    10.333333  1.000700e+04\n",
       "1             455.333333     6.333333  7.185000e+03\n",
       "2             105.727273    26.000000  3.215227e+04\n",
       "3               7.905386    53.516739  6.621387e+04\n",
       "4               5.073529   147.220588  1.949689e+05\n",
       "5               3.800905   232.723982  3.083818e+05\n",
       "6               3.169231   371.307692  5.554470e+05\n",
       "7               1.541667   569.041667  8.050580e+05\n",
       "8               2.000000   959.000000  2.925496e+06\n",
       "9               0.000000  2551.000000  5.254312e+06"
      ]
     },
     "execution_count": 56,
     "metadata": {},
     "output_type": "execute_result"
    }
   ],
   "source": [
    "tx_user.groupby('OverallScore')['Recency','Frequency','order_value'].mean()"
   ]
  },
  {
   "cell_type": "code",
   "execution_count": 57,
   "metadata": {},
   "outputs": [
    {
     "data": {
      "text/plain": [
       "OverallScore\n",
       "0      3\n",
       "1      3\n",
       "2     44\n",
       "3    687\n",
       "4    136\n",
       "5    221\n",
       "6     65\n",
       "7     48\n",
       "8      3\n",
       "9      1\n",
       "Name: Recency, dtype: int64"
      ]
     },
     "execution_count": 57,
     "metadata": {},
     "output_type": "execute_result"
    }
   ],
   "source": [
    "tx_user.groupby('OverallScore')['Recency'].count()"
   ]
  },
  {
   "cell_type": "code",
   "execution_count": 58,
   "metadata": {},
   "outputs": [],
   "source": [
    "tx_user['Segment'] = 'Low-Value'\n",
    "tx_user.loc[tx_user['OverallScore']==2,'Segment'] = 'Mid-Value'\n",
    "tx_user.loc[tx_user['OverallScore']==6,'Segment'] = 'Mid-Value' \n",
    "tx_user.loc[tx_user['OverallScore']==7,'Segment'] = 'Mid-Value' \n",
    "tx_user.loc[tx_user['OverallScore']==3,'Segment'] = 'High-Value'\n",
    "tx_user.loc[tx_user['OverallScore']==4,'Segment'] = 'High-Value' \n",
    "tx_user.loc[tx_user['OverallScore']==5,'Segment'] = 'High-Value' "
   ]
  },
  {
   "cell_type": "code",
   "execution_count": 59,
   "metadata": {},
   "outputs": [
    {
     "data": {
      "text/html": [
       "<div>\n",
       "<style scoped>\n",
       "    .dataframe tbody tr th:only-of-type {\n",
       "        vertical-align: middle;\n",
       "    }\n",
       "\n",
       "    .dataframe tbody tr th {\n",
       "        vertical-align: top;\n",
       "    }\n",
       "\n",
       "    .dataframe thead th {\n",
       "        text-align: right;\n",
       "    }\n",
       "</style>\n",
       "<table border=\"1\" class=\"dataframe\">\n",
       "  <thead>\n",
       "    <tr style=\"text-align: right;\">\n",
       "      <th></th>\n",
       "      <th>user_id</th>\n",
       "      <th>NextPurchaseDay</th>\n",
       "      <th>Recency</th>\n",
       "      <th>RecencyCluster</th>\n",
       "      <th>Frequency</th>\n",
       "      <th>FrequencyCluster</th>\n",
       "      <th>order_value</th>\n",
       "      <th>RevenueCluster</th>\n",
       "      <th>OverallScore</th>\n",
       "      <th>Segment</th>\n",
       "    </tr>\n",
       "  </thead>\n",
       "  <tbody>\n",
       "    <tr>\n",
       "      <td>0</td>\n",
       "      <td>5861481</td>\n",
       "      <td>30</td>\n",
       "      <td>24</td>\n",
       "      <td>3</td>\n",
       "      <td>2</td>\n",
       "      <td>0</td>\n",
       "      <td>1438</td>\n",
       "      <td>0</td>\n",
       "      <td>3</td>\n",
       "      <td>High-Value</td>\n",
       "    </tr>\n",
       "    <tr>\n",
       "      <td>1</td>\n",
       "      <td>4113453</td>\n",
       "      <td>36</td>\n",
       "      <td>27</td>\n",
       "      <td>3</td>\n",
       "      <td>67</td>\n",
       "      <td>0</td>\n",
       "      <td>65116</td>\n",
       "      <td>0</td>\n",
       "      <td>3</td>\n",
       "      <td>High-Value</td>\n",
       "    </tr>\n",
       "    <tr>\n",
       "      <td>2</td>\n",
       "      <td>4357445</td>\n",
       "      <td>3</td>\n",
       "      <td>1</td>\n",
       "      <td>3</td>\n",
       "      <td>88</td>\n",
       "      <td>0</td>\n",
       "      <td>83900</td>\n",
       "      <td>0</td>\n",
       "      <td>3</td>\n",
       "      <td>High-Value</td>\n",
       "    </tr>\n",
       "    <tr>\n",
       "      <td>3</td>\n",
       "      <td>5889917</td>\n",
       "      <td>6</td>\n",
       "      <td>2</td>\n",
       "      <td>3</td>\n",
       "      <td>38</td>\n",
       "      <td>0</td>\n",
       "      <td>29965</td>\n",
       "      <td>0</td>\n",
       "      <td>3</td>\n",
       "      <td>High-Value</td>\n",
       "    </tr>\n",
       "    <tr>\n",
       "      <td>4</td>\n",
       "      <td>5714669</td>\n",
       "      <td>70</td>\n",
       "      <td>44</td>\n",
       "      <td>3</td>\n",
       "      <td>2</td>\n",
       "      <td>0</td>\n",
       "      <td>513</td>\n",
       "      <td>0</td>\n",
       "      <td>3</td>\n",
       "      <td>High-Value</td>\n",
       "    </tr>\n",
       "  </tbody>\n",
       "</table>\n",
       "</div>"
      ],
      "text/plain": [
       "   user_id  NextPurchaseDay  Recency  RecencyCluster  Frequency  \\\n",
       "0  5861481               30       24               3          2   \n",
       "1  4113453               36       27               3         67   \n",
       "2  4357445                3        1               3         88   \n",
       "3  5889917                6        2               3         38   \n",
       "4  5714669               70       44               3          2   \n",
       "\n",
       "   FrequencyCluster  order_value  RevenueCluster  OverallScore     Segment  \n",
       "0                 0         1438               0             3  High-Value  \n",
       "1                 0        65116               0             3  High-Value  \n",
       "2                 0        83900               0             3  High-Value  \n",
       "3                 0        29965               0             3  High-Value  \n",
       "4                 0          513               0             3  High-Value  "
      ]
     },
     "execution_count": 59,
     "metadata": {},
     "output_type": "execute_result"
    }
   ],
   "source": [
    "tx_user.head()"
   ]
  },
  {
   "cell_type": "markdown",
   "metadata": {},
   "source": [
    "# Adding new features"
   ]
  },
  {
   "cell_type": "code",
   "execution_count": 60,
   "metadata": {},
   "outputs": [
    {
     "data": {
      "text/html": [
       "<div>\n",
       "<style scoped>\n",
       "    .dataframe tbody tr th:only-of-type {\n",
       "        vertical-align: middle;\n",
       "    }\n",
       "\n",
       "    .dataframe tbody tr th {\n",
       "        vertical-align: top;\n",
       "    }\n",
       "\n",
       "    .dataframe thead th {\n",
       "        text-align: right;\n",
       "    }\n",
       "</style>\n",
       "<table border=\"1\" class=\"dataframe\">\n",
       "  <thead>\n",
       "    <tr style=\"text-align: right;\">\n",
       "      <th></th>\n",
       "      <th>user_id</th>\n",
       "      <th>order_id</th>\n",
       "      <th>order_date</th>\n",
       "      <th>days_to_next_order</th>\n",
       "      <th>order_value</th>\n",
       "      <th>avg_order_value</th>\n",
       "      <th>avg_order_value_last7</th>\n",
       "      <th>average_frequency_last7</th>\n",
       "      <th>average_frequency</th>\n",
       "    </tr>\n",
       "  </thead>\n",
       "  <tbody>\n",
       "    <tr>\n",
       "      <td>0</td>\n",
       "      <td>5861481</td>\n",
       "      <td>4f3eb622af678b3a5830b71cef1835d9</td>\n",
       "      <td>2020-08-01</td>\n",
       "      <td>6</td>\n",
       "      <td>958</td>\n",
       "      <td>1133</td>\n",
       "      <td>1159</td>\n",
       "      <td>18.4286</td>\n",
       "      <td>16.1250</td>\n",
       "    </tr>\n",
       "    <tr>\n",
       "      <td>1</td>\n",
       "      <td>5861481</td>\n",
       "      <td>d9b5c3bd7b7667830cd8fbe440655ba8</td>\n",
       "      <td>2020-08-07</td>\n",
       "      <td>30</td>\n",
       "      <td>480</td>\n",
       "      <td>1060</td>\n",
       "      <td>1024</td>\n",
       "      <td>16.2857</td>\n",
       "      <td>15.0000</td>\n",
       "    </tr>\n",
       "    <tr>\n",
       "      <td>2</td>\n",
       "      <td>4113453</td>\n",
       "      <td>bf3a6ecf55a5248090643cecb603513e</td>\n",
       "      <td>2018-08-03</td>\n",
       "      <td>1</td>\n",
       "      <td>522</td>\n",
       "      <td>901</td>\n",
       "      <td>888</td>\n",
       "      <td>38.8571</td>\n",
       "      <td>34.0000</td>\n",
       "    </tr>\n",
       "    <tr>\n",
       "      <td>3</td>\n",
       "      <td>4113453</td>\n",
       "      <td>12ea88465a5fa45402b369a5ecb51cce</td>\n",
       "      <td>2018-08-04</td>\n",
       "      <td>6</td>\n",
       "      <td>637</td>\n",
       "      <td>871</td>\n",
       "      <td>902</td>\n",
       "      <td>21.8571</td>\n",
       "      <td>30.3333</td>\n",
       "    </tr>\n",
       "    <tr>\n",
       "      <td>4</td>\n",
       "      <td>4113453</td>\n",
       "      <td>bd62fa44277466f44e3df0c2d306e9f6</td>\n",
       "      <td>2018-08-10</td>\n",
       "      <td>7</td>\n",
       "      <td>725</td>\n",
       "      <td>857</td>\n",
       "      <td>909</td>\n",
       "      <td>22.1429</td>\n",
       "      <td>27.9000</td>\n",
       "    </tr>\n",
       "  </tbody>\n",
       "</table>\n",
       "</div>"
      ],
      "text/plain": [
       "   user_id                          order_id order_date  days_to_next_order  \\\n",
       "0  5861481  4f3eb622af678b3a5830b71cef1835d9 2020-08-01                   6   \n",
       "1  5861481  d9b5c3bd7b7667830cd8fbe440655ba8 2020-08-07                  30   \n",
       "2  4113453  bf3a6ecf55a5248090643cecb603513e 2018-08-03                   1   \n",
       "3  4113453  12ea88465a5fa45402b369a5ecb51cce 2018-08-04                   6   \n",
       "4  4113453  bd62fa44277466f44e3df0c2d306e9f6 2018-08-10                   7   \n",
       "\n",
       "   order_value  avg_order_value  avg_order_value_last7  \\\n",
       "0          958             1133                   1159   \n",
       "1          480             1060                   1024   \n",
       "2          522              901                    888   \n",
       "3          637              871                    902   \n",
       "4          725              857                    909   \n",
       "\n",
       "   average_frequency_last7  average_frequency  \n",
       "0                  18.4286            16.1250  \n",
       "1                  16.2857            15.0000  \n",
       "2                  38.8571            34.0000  \n",
       "3                  21.8571            30.3333  \n",
       "4                  22.1429            27.9000  "
      ]
     },
     "execution_count": 60,
     "metadata": {},
     "output_type": "execute_result"
    }
   ],
   "source": [
    "tx_6y.head()"
   ]
  },
  {
   "cell_type": "code",
   "execution_count": 62,
   "metadata": {},
   "outputs": [],
   "source": [
    "#create a dataframe with user_id and order_date\n",
    "tx_day_order = tx_6y[['user_id','order_date']]"
   ]
  },
  {
   "cell_type": "code",
   "execution_count": 63,
   "metadata": {},
   "outputs": [],
   "source": [
    "#Convert order datetime to day\n",
    "tx_day_order['order_day'] = tx_6y['order_date'].dt.date"
   ]
  },
  {
   "cell_type": "code",
   "execution_count": 64,
   "metadata": {},
   "outputs": [],
   "source": [
    "tx_day_order = tx_day_order.sort_values(['user_id','order_day'])"
   ]
  },
  {
   "cell_type": "code",
   "execution_count": 65,
   "metadata": {},
   "outputs": [],
   "source": [
    "#Drop duplicates\n",
    "tx_day_order = tx_day_order.drop_duplicates(subset=['user_id','order_day'],keep='first')"
   ]
  },
  {
   "cell_type": "code",
   "execution_count": 66,
   "metadata": {},
   "outputs": [],
   "source": [
    "#shifting last 3 purchase dates\n",
    "tx_day_order['PrevInvoiceDate'] = tx_day_order.groupby('user_id')['order_day'].shift(1)\n",
    "tx_day_order['T2InvoiceDate'] = tx_day_order.groupby('user_id')['order_day'].shift(2)\n",
    "tx_day_order['T3InvoiceDate'] = tx_day_order.groupby('user_id')['order_day'].shift(3)"
   ]
  },
  {
   "cell_type": "code",
   "execution_count": 67,
   "metadata": {},
   "outputs": [
    {
     "data": {
      "text/html": [
       "<div>\n",
       "<style scoped>\n",
       "    .dataframe tbody tr th:only-of-type {\n",
       "        vertical-align: middle;\n",
       "    }\n",
       "\n",
       "    .dataframe tbody tr th {\n",
       "        vertical-align: top;\n",
       "    }\n",
       "\n",
       "    .dataframe thead th {\n",
       "        text-align: right;\n",
       "    }\n",
       "</style>\n",
       "<table border=\"1\" class=\"dataframe\">\n",
       "  <thead>\n",
       "    <tr style=\"text-align: right;\">\n",
       "      <th></th>\n",
       "      <th>user_id</th>\n",
       "      <th>order_date</th>\n",
       "      <th>order_day</th>\n",
       "      <th>PrevInvoiceDate</th>\n",
       "      <th>T2InvoiceDate</th>\n",
       "      <th>T3InvoiceDate</th>\n",
       "    </tr>\n",
       "  </thead>\n",
       "  <tbody>\n",
       "    <tr>\n",
       "      <td>57448</td>\n",
       "      <td>1899901</td>\n",
       "      <td>2015-02-08</td>\n",
       "      <td>2015-02-08</td>\n",
       "      <td>NaN</td>\n",
       "      <td>NaN</td>\n",
       "      <td>NaN</td>\n",
       "    </tr>\n",
       "    <tr>\n",
       "      <td>57449</td>\n",
       "      <td>1899901</td>\n",
       "      <td>2015-02-12</td>\n",
       "      <td>2015-02-12</td>\n",
       "      <td>2015-02-08</td>\n",
       "      <td>NaN</td>\n",
       "      <td>NaN</td>\n",
       "    </tr>\n",
       "    <tr>\n",
       "      <td>57450</td>\n",
       "      <td>1899901</td>\n",
       "      <td>2015-02-17</td>\n",
       "      <td>2015-02-17</td>\n",
       "      <td>2015-02-12</td>\n",
       "      <td>2015-02-08</td>\n",
       "      <td>NaN</td>\n",
       "    </tr>\n",
       "    <tr>\n",
       "      <td>57451</td>\n",
       "      <td>1899901</td>\n",
       "      <td>2015-02-22</td>\n",
       "      <td>2015-02-22</td>\n",
       "      <td>2015-02-17</td>\n",
       "      <td>2015-02-12</td>\n",
       "      <td>2015-02-08</td>\n",
       "    </tr>\n",
       "    <tr>\n",
       "      <td>57452</td>\n",
       "      <td>1899901</td>\n",
       "      <td>2015-02-28</td>\n",
       "      <td>2015-02-28</td>\n",
       "      <td>2015-02-22</td>\n",
       "      <td>2015-02-17</td>\n",
       "      <td>2015-02-12</td>\n",
       "    </tr>\n",
       "  </tbody>\n",
       "</table>\n",
       "</div>"
      ],
      "text/plain": [
       "       user_id order_date   order_day PrevInvoiceDate T2InvoiceDate  \\\n",
       "57448  1899901 2015-02-08  2015-02-08             NaN           NaN   \n",
       "57449  1899901 2015-02-12  2015-02-12      2015-02-08           NaN   \n",
       "57450  1899901 2015-02-17  2015-02-17      2015-02-12    2015-02-08   \n",
       "57451  1899901 2015-02-22  2015-02-22      2015-02-17    2015-02-12   \n",
       "57452  1899901 2015-02-28  2015-02-28      2015-02-22    2015-02-17   \n",
       "\n",
       "      T3InvoiceDate  \n",
       "57448           NaN  \n",
       "57449           NaN  \n",
       "57450           NaN  \n",
       "57451    2015-02-08  \n",
       "57452    2015-02-12  "
      ]
     },
     "execution_count": 67,
     "metadata": {},
     "output_type": "execute_result"
    }
   ],
   "source": [
    "tx_day_order.head()"
   ]
  },
  {
   "cell_type": "code",
   "execution_count": 68,
   "metadata": {},
   "outputs": [],
   "source": [
    "tx_day_order['DayDiff'] = (tx_day_order['order_day'] - tx_day_order['PrevInvoiceDate']).dt.days\n",
    "tx_day_order['DayDiff2'] = (tx_day_order['order_day'] - tx_day_order['T2InvoiceDate']).dt.days\n",
    "tx_day_order['DayDiff3'] = (tx_day_order['order_day'] - tx_day_order['T3InvoiceDate']).dt.days"
   ]
  },
  {
   "cell_type": "code",
   "execution_count": 69,
   "metadata": {},
   "outputs": [
    {
     "data": {
      "text/html": [
       "<div>\n",
       "<style scoped>\n",
       "    .dataframe tbody tr th:only-of-type {\n",
       "        vertical-align: middle;\n",
       "    }\n",
       "\n",
       "    .dataframe tbody tr th {\n",
       "        vertical-align: top;\n",
       "    }\n",
       "\n",
       "    .dataframe thead th {\n",
       "        text-align: right;\n",
       "    }\n",
       "</style>\n",
       "<table border=\"1\" class=\"dataframe\">\n",
       "  <thead>\n",
       "    <tr style=\"text-align: right;\">\n",
       "      <th></th>\n",
       "      <th>user_id</th>\n",
       "      <th>order_date</th>\n",
       "      <th>order_day</th>\n",
       "      <th>PrevInvoiceDate</th>\n",
       "      <th>T2InvoiceDate</th>\n",
       "      <th>T3InvoiceDate</th>\n",
       "      <th>DayDiff</th>\n",
       "      <th>DayDiff2</th>\n",
       "      <th>DayDiff3</th>\n",
       "    </tr>\n",
       "  </thead>\n",
       "  <tbody>\n",
       "    <tr>\n",
       "      <td>57448</td>\n",
       "      <td>1899901</td>\n",
       "      <td>2015-02-08</td>\n",
       "      <td>2015-02-08</td>\n",
       "      <td>NaN</td>\n",
       "      <td>NaN</td>\n",
       "      <td>NaN</td>\n",
       "      <td>NaN</td>\n",
       "      <td>NaN</td>\n",
       "      <td>NaN</td>\n",
       "    </tr>\n",
       "    <tr>\n",
       "      <td>57449</td>\n",
       "      <td>1899901</td>\n",
       "      <td>2015-02-12</td>\n",
       "      <td>2015-02-12</td>\n",
       "      <td>2015-02-08</td>\n",
       "      <td>NaN</td>\n",
       "      <td>NaN</td>\n",
       "      <td>4.0</td>\n",
       "      <td>NaN</td>\n",
       "      <td>NaN</td>\n",
       "    </tr>\n",
       "    <tr>\n",
       "      <td>57450</td>\n",
       "      <td>1899901</td>\n",
       "      <td>2015-02-17</td>\n",
       "      <td>2015-02-17</td>\n",
       "      <td>2015-02-12</td>\n",
       "      <td>2015-02-08</td>\n",
       "      <td>NaN</td>\n",
       "      <td>5.0</td>\n",
       "      <td>9.0</td>\n",
       "      <td>NaN</td>\n",
       "    </tr>\n",
       "    <tr>\n",
       "      <td>57451</td>\n",
       "      <td>1899901</td>\n",
       "      <td>2015-02-22</td>\n",
       "      <td>2015-02-22</td>\n",
       "      <td>2015-02-17</td>\n",
       "      <td>2015-02-12</td>\n",
       "      <td>2015-02-08</td>\n",
       "      <td>5.0</td>\n",
       "      <td>10.0</td>\n",
       "      <td>14.0</td>\n",
       "    </tr>\n",
       "    <tr>\n",
       "      <td>57452</td>\n",
       "      <td>1899901</td>\n",
       "      <td>2015-02-28</td>\n",
       "      <td>2015-02-28</td>\n",
       "      <td>2015-02-22</td>\n",
       "      <td>2015-02-17</td>\n",
       "      <td>2015-02-12</td>\n",
       "      <td>6.0</td>\n",
       "      <td>11.0</td>\n",
       "      <td>16.0</td>\n",
       "    </tr>\n",
       "    <tr>\n",
       "      <td>57453</td>\n",
       "      <td>1899901</td>\n",
       "      <td>2015-03-07</td>\n",
       "      <td>2015-03-07</td>\n",
       "      <td>2015-02-28</td>\n",
       "      <td>2015-02-22</td>\n",
       "      <td>2015-02-17</td>\n",
       "      <td>7.0</td>\n",
       "      <td>13.0</td>\n",
       "      <td>18.0</td>\n",
       "    </tr>\n",
       "    <tr>\n",
       "      <td>57454</td>\n",
       "      <td>1899901</td>\n",
       "      <td>2015-03-12</td>\n",
       "      <td>2015-03-12</td>\n",
       "      <td>2015-03-07</td>\n",
       "      <td>2015-02-28</td>\n",
       "      <td>2015-02-22</td>\n",
       "      <td>5.0</td>\n",
       "      <td>12.0</td>\n",
       "      <td>18.0</td>\n",
       "    </tr>\n",
       "    <tr>\n",
       "      <td>57455</td>\n",
       "      <td>1899901</td>\n",
       "      <td>2015-03-16</td>\n",
       "      <td>2015-03-16</td>\n",
       "      <td>2015-03-12</td>\n",
       "      <td>2015-03-07</td>\n",
       "      <td>2015-02-28</td>\n",
       "      <td>4.0</td>\n",
       "      <td>9.0</td>\n",
       "      <td>16.0</td>\n",
       "    </tr>\n",
       "    <tr>\n",
       "      <td>57456</td>\n",
       "      <td>1899901</td>\n",
       "      <td>2015-03-26</td>\n",
       "      <td>2015-03-26</td>\n",
       "      <td>2015-03-16</td>\n",
       "      <td>2015-03-12</td>\n",
       "      <td>2015-03-07</td>\n",
       "      <td>10.0</td>\n",
       "      <td>14.0</td>\n",
       "      <td>19.0</td>\n",
       "    </tr>\n",
       "    <tr>\n",
       "      <td>57457</td>\n",
       "      <td>1899901</td>\n",
       "      <td>2015-04-04</td>\n",
       "      <td>2015-04-04</td>\n",
       "      <td>2015-03-26</td>\n",
       "      <td>2015-03-16</td>\n",
       "      <td>2015-03-12</td>\n",
       "      <td>9.0</td>\n",
       "      <td>19.0</td>\n",
       "      <td>23.0</td>\n",
       "    </tr>\n",
       "  </tbody>\n",
       "</table>\n",
       "</div>"
      ],
      "text/plain": [
       "       user_id order_date   order_day PrevInvoiceDate T2InvoiceDate  \\\n",
       "57448  1899901 2015-02-08  2015-02-08             NaN           NaN   \n",
       "57449  1899901 2015-02-12  2015-02-12      2015-02-08           NaN   \n",
       "57450  1899901 2015-02-17  2015-02-17      2015-02-12    2015-02-08   \n",
       "57451  1899901 2015-02-22  2015-02-22      2015-02-17    2015-02-12   \n",
       "57452  1899901 2015-02-28  2015-02-28      2015-02-22    2015-02-17   \n",
       "57453  1899901 2015-03-07  2015-03-07      2015-02-28    2015-02-22   \n",
       "57454  1899901 2015-03-12  2015-03-12      2015-03-07    2015-02-28   \n",
       "57455  1899901 2015-03-16  2015-03-16      2015-03-12    2015-03-07   \n",
       "57456  1899901 2015-03-26  2015-03-26      2015-03-16    2015-03-12   \n",
       "57457  1899901 2015-04-04  2015-04-04      2015-03-26    2015-03-16   \n",
       "\n",
       "      T3InvoiceDate  DayDiff  DayDiff2  DayDiff3  \n",
       "57448           NaN      NaN       NaN       NaN  \n",
       "57449           NaN      4.0       NaN       NaN  \n",
       "57450           NaN      5.0       9.0       NaN  \n",
       "57451    2015-02-08      5.0      10.0      14.0  \n",
       "57452    2015-02-12      6.0      11.0      16.0  \n",
       "57453    2015-02-17      7.0      13.0      18.0  \n",
       "57454    2015-02-22      5.0      12.0      18.0  \n",
       "57455    2015-02-28      4.0       9.0      16.0  \n",
       "57456    2015-03-07     10.0      14.0      19.0  \n",
       "57457    2015-03-12      9.0      19.0      23.0  "
      ]
     },
     "execution_count": 69,
     "metadata": {},
     "output_type": "execute_result"
    }
   ],
   "source": [
    "tx_day_order.head(10)"
   ]
  },
  {
   "cell_type": "code",
   "execution_count": 70,
   "metadata": {},
   "outputs": [],
   "source": [
    "tx_day_diff = tx_day_order.groupby('user_id').agg({'DayDiff': ['mean','std']}).reset_index()"
   ]
  },
  {
   "cell_type": "code",
   "execution_count": 71,
   "metadata": {},
   "outputs": [],
   "source": [
    "tx_day_diff.columns = ['user_id', 'DayDiffMean','DayDiffStd']"
   ]
  },
  {
   "cell_type": "code",
   "execution_count": 72,
   "metadata": {},
   "outputs": [
    {
     "data": {
      "text/html": [
       "<div>\n",
       "<style scoped>\n",
       "    .dataframe tbody tr th:only-of-type {\n",
       "        vertical-align: middle;\n",
       "    }\n",
       "\n",
       "    .dataframe tbody tr th {\n",
       "        vertical-align: top;\n",
       "    }\n",
       "\n",
       "    .dataframe thead th {\n",
       "        text-align: right;\n",
       "    }\n",
       "</style>\n",
       "<table border=\"1\" class=\"dataframe\">\n",
       "  <thead>\n",
       "    <tr style=\"text-align: right;\">\n",
       "      <th></th>\n",
       "      <th>user_id</th>\n",
       "      <th>DayDiffMean</th>\n",
       "      <th>DayDiffStd</th>\n",
       "    </tr>\n",
       "  </thead>\n",
       "  <tbody>\n",
       "    <tr>\n",
       "      <td>0</td>\n",
       "      <td>1899901</td>\n",
       "      <td>4.266807</td>\n",
       "      <td>3.592130</td>\n",
       "    </tr>\n",
       "    <tr>\n",
       "      <td>1</td>\n",
       "      <td>1960755</td>\n",
       "      <td>5.272480</td>\n",
       "      <td>8.245342</td>\n",
       "    </tr>\n",
       "    <tr>\n",
       "      <td>2</td>\n",
       "      <td>2169787</td>\n",
       "      <td>8.047945</td>\n",
       "      <td>25.847652</td>\n",
       "    </tr>\n",
       "    <tr>\n",
       "      <td>3</td>\n",
       "      <td>2173281</td>\n",
       "      <td>27.440000</td>\n",
       "      <td>170.097130</td>\n",
       "    </tr>\n",
       "    <tr>\n",
       "      <td>4</td>\n",
       "      <td>2327549</td>\n",
       "      <td>5.059701</td>\n",
       "      <td>7.588363</td>\n",
       "    </tr>\n",
       "  </tbody>\n",
       "</table>\n",
       "</div>"
      ],
      "text/plain": [
       "   user_id  DayDiffMean  DayDiffStd\n",
       "0  1899901     4.266807    3.592130\n",
       "1  1960755     5.272480    8.245342\n",
       "2  2169787     8.047945   25.847652\n",
       "3  2173281    27.440000  170.097130\n",
       "4  2327549     5.059701    7.588363"
      ]
     },
     "execution_count": 72,
     "metadata": {},
     "output_type": "execute_result"
    }
   ],
   "source": [
    "tx_day_diff.head()"
   ]
  },
  {
   "cell_type": "code",
   "execution_count": 73,
   "metadata": {},
   "outputs": [],
   "source": [
    "tx_day_order_last = tx_day_order.drop_duplicates(subset=['user_id'],keep='last')"
   ]
  },
  {
   "cell_type": "code",
   "execution_count": 74,
   "metadata": {},
   "outputs": [
    {
     "data": {
      "text/html": [
       "<div>\n",
       "<style scoped>\n",
       "    .dataframe tbody tr th:only-of-type {\n",
       "        vertical-align: middle;\n",
       "    }\n",
       "\n",
       "    .dataframe tbody tr th {\n",
       "        vertical-align: top;\n",
       "    }\n",
       "\n",
       "    .dataframe thead th {\n",
       "        text-align: right;\n",
       "    }\n",
       "</style>\n",
       "<table border=\"1\" class=\"dataframe\">\n",
       "  <thead>\n",
       "    <tr style=\"text-align: right;\">\n",
       "      <th></th>\n",
       "      <th>user_id</th>\n",
       "      <th>order_date</th>\n",
       "      <th>order_day</th>\n",
       "      <th>PrevInvoiceDate</th>\n",
       "      <th>T2InvoiceDate</th>\n",
       "      <th>T3InvoiceDate</th>\n",
       "      <th>DayDiff</th>\n",
       "      <th>DayDiff2</th>\n",
       "      <th>DayDiff3</th>\n",
       "    </tr>\n",
       "  </thead>\n",
       "  <tbody>\n",
       "    <tr>\n",
       "      <td>57968</td>\n",
       "      <td>1899901</td>\n",
       "      <td>2020-08-31</td>\n",
       "      <td>2020-08-31</td>\n",
       "      <td>2020-08-27</td>\n",
       "      <td>2020-08-26</td>\n",
       "      <td>2020-08-24</td>\n",
       "      <td>4.0</td>\n",
       "      <td>5.0</td>\n",
       "      <td>7.0</td>\n",
       "    </tr>\n",
       "    <tr>\n",
       "      <td>108965</td>\n",
       "      <td>1960755</td>\n",
       "      <td>2020-08-29</td>\n",
       "      <td>2020-08-29</td>\n",
       "      <td>2020-08-26</td>\n",
       "      <td>2020-08-24</td>\n",
       "      <td>2020-08-23</td>\n",
       "      <td>3.0</td>\n",
       "      <td>5.0</td>\n",
       "      <td>6.0</td>\n",
       "    </tr>\n",
       "    <tr>\n",
       "      <td>61530</td>\n",
       "      <td>2169787</td>\n",
       "      <td>2020-08-26</td>\n",
       "      <td>2020-08-26</td>\n",
       "      <td>2020-08-22</td>\n",
       "      <td>2020-08-14</td>\n",
       "      <td>2020-08-06</td>\n",
       "      <td>4.0</td>\n",
       "      <td>12.0</td>\n",
       "      <td>20.0</td>\n",
       "    </tr>\n",
       "    <tr>\n",
       "      <td>30558</td>\n",
       "      <td>2173281</td>\n",
       "      <td>2020-08-31</td>\n",
       "      <td>2020-08-31</td>\n",
       "      <td>2020-08-21</td>\n",
       "      <td>2020-08-19</td>\n",
       "      <td>2020-08-18</td>\n",
       "      <td>10.0</td>\n",
       "      <td>12.0</td>\n",
       "      <td>13.0</td>\n",
       "    </tr>\n",
       "    <tr>\n",
       "      <td>147216</td>\n",
       "      <td>2327549</td>\n",
       "      <td>2020-08-30</td>\n",
       "      <td>2020-08-30</td>\n",
       "      <td>2020-08-28</td>\n",
       "      <td>2020-08-25</td>\n",
       "      <td>2020-08-22</td>\n",
       "      <td>2.0</td>\n",
       "      <td>5.0</td>\n",
       "      <td>8.0</td>\n",
       "    </tr>\n",
       "    <tr>\n",
       "      <td>102199</td>\n",
       "      <td>2620821</td>\n",
       "      <td>2020-08-31</td>\n",
       "      <td>2020-08-31</td>\n",
       "      <td>2020-08-25</td>\n",
       "      <td>2020-08-11</td>\n",
       "      <td>2020-08-04</td>\n",
       "      <td>6.0</td>\n",
       "      <td>20.0</td>\n",
       "      <td>27.0</td>\n",
       "    </tr>\n",
       "    <tr>\n",
       "      <td>130877</td>\n",
       "      <td>2833713</td>\n",
       "      <td>2020-08-29</td>\n",
       "      <td>2020-08-29</td>\n",
       "      <td>2020-08-26</td>\n",
       "      <td>2020-08-25</td>\n",
       "      <td>2020-08-17</td>\n",
       "      <td>3.0</td>\n",
       "      <td>4.0</td>\n",
       "      <td>12.0</td>\n",
       "    </tr>\n",
       "    <tr>\n",
       "      <td>52120</td>\n",
       "      <td>2851045</td>\n",
       "      <td>2020-08-25</td>\n",
       "      <td>2020-08-25</td>\n",
       "      <td>2020-08-18</td>\n",
       "      <td>2020-08-14</td>\n",
       "      <td>2020-08-08</td>\n",
       "      <td>7.0</td>\n",
       "      <td>11.0</td>\n",
       "      <td>17.0</td>\n",
       "    </tr>\n",
       "    <tr>\n",
       "      <td>156872</td>\n",
       "      <td>2904809</td>\n",
       "      <td>2020-07-31</td>\n",
       "      <td>2020-07-31</td>\n",
       "      <td>2020-05-10</td>\n",
       "      <td>2020-04-25</td>\n",
       "      <td>2020-04-19</td>\n",
       "      <td>82.0</td>\n",
       "      <td>97.0</td>\n",
       "      <td>103.0</td>\n",
       "    </tr>\n",
       "    <tr>\n",
       "      <td>8095</td>\n",
       "      <td>3042729</td>\n",
       "      <td>2020-08-06</td>\n",
       "      <td>2020-08-06</td>\n",
       "      <td>2020-07-24</td>\n",
       "      <td>2020-06-24</td>\n",
       "      <td>2020-06-21</td>\n",
       "      <td>13.0</td>\n",
       "      <td>43.0</td>\n",
       "      <td>46.0</td>\n",
       "    </tr>\n",
       "  </tbody>\n",
       "</table>\n",
       "</div>"
      ],
      "text/plain": [
       "        user_id order_date   order_day PrevInvoiceDate T2InvoiceDate  \\\n",
       "57968   1899901 2020-08-31  2020-08-31      2020-08-27    2020-08-26   \n",
       "108965  1960755 2020-08-29  2020-08-29      2020-08-26    2020-08-24   \n",
       "61530   2169787 2020-08-26  2020-08-26      2020-08-22    2020-08-14   \n",
       "30558   2173281 2020-08-31  2020-08-31      2020-08-21    2020-08-19   \n",
       "147216  2327549 2020-08-30  2020-08-30      2020-08-28    2020-08-25   \n",
       "102199  2620821 2020-08-31  2020-08-31      2020-08-25    2020-08-11   \n",
       "130877  2833713 2020-08-29  2020-08-29      2020-08-26    2020-08-25   \n",
       "52120   2851045 2020-08-25  2020-08-25      2020-08-18    2020-08-14   \n",
       "156872  2904809 2020-07-31  2020-07-31      2020-05-10    2020-04-25   \n",
       "8095    3042729 2020-08-06  2020-08-06      2020-07-24    2020-06-24   \n",
       "\n",
       "       T3InvoiceDate  DayDiff  DayDiff2  DayDiff3  \n",
       "57968     2020-08-24      4.0       5.0       7.0  \n",
       "108965    2020-08-23      3.0       5.0       6.0  \n",
       "61530     2020-08-06      4.0      12.0      20.0  \n",
       "30558     2020-08-18     10.0      12.0      13.0  \n",
       "147216    2020-08-22      2.0       5.0       8.0  \n",
       "102199    2020-08-04      6.0      20.0      27.0  \n",
       "130877    2020-08-17      3.0       4.0      12.0  \n",
       "52120     2020-08-08      7.0      11.0      17.0  \n",
       "156872    2020-04-19     82.0      97.0     103.0  \n",
       "8095      2020-06-21     13.0      43.0      46.0  "
      ]
     },
     "execution_count": 74,
     "metadata": {},
     "output_type": "execute_result"
    }
   ],
   "source": [
    "tx_day_order_last.head(10)"
   ]
  },
  {
   "cell_type": "code",
   "execution_count": 75,
   "metadata": {},
   "outputs": [],
   "source": [
    "tx_day_order_last = tx_day_order_last.dropna()"
   ]
  },
  {
   "cell_type": "code",
   "execution_count": 76,
   "metadata": {},
   "outputs": [],
   "source": [
    "tx_day_order_last = pd.merge(tx_day_order_last, tx_day_diff, on='user_id')"
   ]
  },
  {
   "cell_type": "code",
   "execution_count": 77,
   "metadata": {},
   "outputs": [],
   "source": [
    "tx_user = pd.merge(tx_user, tx_day_order_last[['user_id','DayDiff','DayDiff2','DayDiff3','DayDiffMean','DayDiffStd']], on='user_id')"
   ]
  },
  {
   "cell_type": "code",
   "execution_count": 78,
   "metadata": {},
   "outputs": [
    {
     "data": {
      "text/html": [
       "<div>\n",
       "<style scoped>\n",
       "    .dataframe tbody tr th:only-of-type {\n",
       "        vertical-align: middle;\n",
       "    }\n",
       "\n",
       "    .dataframe tbody tr th {\n",
       "        vertical-align: top;\n",
       "    }\n",
       "\n",
       "    .dataframe thead th {\n",
       "        text-align: right;\n",
       "    }\n",
       "</style>\n",
       "<table border=\"1\" class=\"dataframe\">\n",
       "  <thead>\n",
       "    <tr style=\"text-align: right;\">\n",
       "      <th></th>\n",
       "      <th>user_id</th>\n",
       "      <th>NextPurchaseDay</th>\n",
       "      <th>Recency</th>\n",
       "      <th>RecencyCluster</th>\n",
       "      <th>Frequency</th>\n",
       "      <th>FrequencyCluster</th>\n",
       "      <th>order_value</th>\n",
       "      <th>RevenueCluster</th>\n",
       "      <th>OverallScore</th>\n",
       "      <th>Segment</th>\n",
       "      <th>DayDiff</th>\n",
       "      <th>DayDiff2</th>\n",
       "      <th>DayDiff3</th>\n",
       "      <th>DayDiffMean</th>\n",
       "      <th>DayDiffStd</th>\n",
       "    </tr>\n",
       "  </thead>\n",
       "  <tbody>\n",
       "    <tr>\n",
       "      <td>0</td>\n",
       "      <td>4113453</td>\n",
       "      <td>36</td>\n",
       "      <td>27</td>\n",
       "      <td>3</td>\n",
       "      <td>67</td>\n",
       "      <td>0</td>\n",
       "      <td>65116</td>\n",
       "      <td>0</td>\n",
       "      <td>3</td>\n",
       "      <td>High-Value</td>\n",
       "      <td>22.0</td>\n",
       "      <td>30.0</td>\n",
       "      <td>38.0</td>\n",
       "      <td>11.090909</td>\n",
       "      <td>7.007089</td>\n",
       "    </tr>\n",
       "    <tr>\n",
       "      <td>1</td>\n",
       "      <td>4357445</td>\n",
       "      <td>3</td>\n",
       "      <td>1</td>\n",
       "      <td>3</td>\n",
       "      <td>88</td>\n",
       "      <td>0</td>\n",
       "      <td>83900</td>\n",
       "      <td>0</td>\n",
       "      <td>3</td>\n",
       "      <td>High-Value</td>\n",
       "      <td>6.0</td>\n",
       "      <td>12.0</td>\n",
       "      <td>17.0</td>\n",
       "      <td>8.917647</td>\n",
       "      <td>9.226272</td>\n",
       "    </tr>\n",
       "    <tr>\n",
       "      <td>2</td>\n",
       "      <td>5889917</td>\n",
       "      <td>6</td>\n",
       "      <td>2</td>\n",
       "      <td>3</td>\n",
       "      <td>38</td>\n",
       "      <td>0</td>\n",
       "      <td>29965</td>\n",
       "      <td>0</td>\n",
       "      <td>3</td>\n",
       "      <td>High-Value</td>\n",
       "      <td>7.0</td>\n",
       "      <td>15.0</td>\n",
       "      <td>22.0</td>\n",
       "      <td>4.000000</td>\n",
       "      <td>2.124685</td>\n",
       "    </tr>\n",
       "    <tr>\n",
       "      <td>3</td>\n",
       "      <td>3504865</td>\n",
       "      <td>11</td>\n",
       "      <td>8</td>\n",
       "      <td>3</td>\n",
       "      <td>92</td>\n",
       "      <td>0</td>\n",
       "      <td>94815</td>\n",
       "      <td>0</td>\n",
       "      <td>3</td>\n",
       "      <td>High-Value</td>\n",
       "      <td>16.0</td>\n",
       "      <td>39.0</td>\n",
       "      <td>52.0</td>\n",
       "      <td>16.166667</td>\n",
       "      <td>12.478521</td>\n",
       "    </tr>\n",
       "    <tr>\n",
       "      <td>4</td>\n",
       "      <td>4298393</td>\n",
       "      <td>8</td>\n",
       "      <td>4</td>\n",
       "      <td>3</td>\n",
       "      <td>8</td>\n",
       "      <td>0</td>\n",
       "      <td>18332</td>\n",
       "      <td>0</td>\n",
       "      <td>3</td>\n",
       "      <td>High-Value</td>\n",
       "      <td>11.0</td>\n",
       "      <td>19.0</td>\n",
       "      <td>27.0</td>\n",
       "      <td>10.857143</td>\n",
       "      <td>5.871643</td>\n",
       "    </tr>\n",
       "  </tbody>\n",
       "</table>\n",
       "</div>"
      ],
      "text/plain": [
       "   user_id  NextPurchaseDay  Recency  RecencyCluster  Frequency  \\\n",
       "0  4113453               36       27               3         67   \n",
       "1  4357445                3        1               3         88   \n",
       "2  5889917                6        2               3         38   \n",
       "3  3504865               11        8               3         92   \n",
       "4  4298393                8        4               3          8   \n",
       "\n",
       "   FrequencyCluster  order_value  RevenueCluster  OverallScore     Segment  \\\n",
       "0                 0        65116               0             3  High-Value   \n",
       "1                 0        83900               0             3  High-Value   \n",
       "2                 0        29965               0             3  High-Value   \n",
       "3                 0        94815               0             3  High-Value   \n",
       "4                 0        18332               0             3  High-Value   \n",
       "\n",
       "   DayDiff  DayDiff2  DayDiff3  DayDiffMean  DayDiffStd  \n",
       "0     22.0      30.0      38.0    11.090909    7.007089  \n",
       "1      6.0      12.0      17.0     8.917647    9.226272  \n",
       "2      7.0      15.0      22.0     4.000000    2.124685  \n",
       "3     16.0      39.0      52.0    16.166667   12.478521  \n",
       "4     11.0      19.0      27.0    10.857143    5.871643  "
      ]
     },
     "execution_count": 78,
     "metadata": {},
     "output_type": "execute_result"
    }
   ],
   "source": [
    "tx_user.head()"
   ]
  },
  {
   "cell_type": "code",
   "execution_count": 79,
   "metadata": {},
   "outputs": [
    {
     "data": {
      "text/plain": [
       "1186"
      ]
     },
     "execution_count": 79,
     "metadata": {},
     "output_type": "execute_result"
    }
   ],
   "source": [
    "len(tx_user)"
   ]
  },
  {
   "cell_type": "markdown",
   "metadata": {},
   "source": [
    "# Grouping the label"
   ]
  },
  {
   "cell_type": "code",
   "execution_count": 80,
   "metadata": {},
   "outputs": [],
   "source": [
    "tx_class = tx_user.copy()"
   ]
  },
  {
   "cell_type": "code",
   "execution_count": 81,
   "metadata": {},
   "outputs": [],
   "source": [
    "tx_class = pd.get_dummies(tx_class)"
   ]
  },
  {
   "cell_type": "code",
   "execution_count": 82,
   "metadata": {},
   "outputs": [
    {
     "data": {
      "text/html": [
       "<div>\n",
       "<style scoped>\n",
       "    .dataframe tbody tr th:only-of-type {\n",
       "        vertical-align: middle;\n",
       "    }\n",
       "\n",
       "    .dataframe tbody tr th {\n",
       "        vertical-align: top;\n",
       "    }\n",
       "\n",
       "    .dataframe thead th {\n",
       "        text-align: right;\n",
       "    }\n",
       "</style>\n",
       "<table border=\"1\" class=\"dataframe\">\n",
       "  <thead>\n",
       "    <tr style=\"text-align: right;\">\n",
       "      <th></th>\n",
       "      <th>user_id</th>\n",
       "      <th>NextPurchaseDay</th>\n",
       "      <th>Recency</th>\n",
       "      <th>RecencyCluster</th>\n",
       "      <th>Frequency</th>\n",
       "      <th>FrequencyCluster</th>\n",
       "      <th>order_value</th>\n",
       "      <th>RevenueCluster</th>\n",
       "      <th>OverallScore</th>\n",
       "      <th>DayDiff</th>\n",
       "      <th>DayDiff2</th>\n",
       "      <th>DayDiff3</th>\n",
       "      <th>DayDiffMean</th>\n",
       "      <th>DayDiffStd</th>\n",
       "      <th>Segment_High-Value</th>\n",
       "      <th>Segment_Low-Value</th>\n",
       "      <th>Segment_Mid-Value</th>\n",
       "    </tr>\n",
       "  </thead>\n",
       "  <tbody>\n",
       "    <tr>\n",
       "      <td>1176</td>\n",
       "      <td>3100725</td>\n",
       "      <td>2</td>\n",
       "      <td>0</td>\n",
       "      <td>3</td>\n",
       "      <td>909</td>\n",
       "      <td>2</td>\n",
       "      <td>757992</td>\n",
       "      <td>2</td>\n",
       "      <td>7</td>\n",
       "      <td>7.0</td>\n",
       "      <td>8.0</td>\n",
       "      <td>9.0</td>\n",
       "      <td>2.622517</td>\n",
       "      <td>1.817764</td>\n",
       "      <td>0</td>\n",
       "      <td>0</td>\n",
       "      <td>1</td>\n",
       "    </tr>\n",
       "    <tr>\n",
       "      <td>1177</td>\n",
       "      <td>3081689</td>\n",
       "      <td>2</td>\n",
       "      <td>1</td>\n",
       "      <td>3</td>\n",
       "      <td>495</td>\n",
       "      <td>2</td>\n",
       "      <td>951162</td>\n",
       "      <td>2</td>\n",
       "      <td>7</td>\n",
       "      <td>6.0</td>\n",
       "      <td>7.0</td>\n",
       "      <td>11.0</td>\n",
       "      <td>4.336245</td>\n",
       "      <td>3.641548</td>\n",
       "      <td>0</td>\n",
       "      <td>0</td>\n",
       "      <td>1</td>\n",
       "    </tr>\n",
       "    <tr>\n",
       "      <td>1178</td>\n",
       "      <td>3819353</td>\n",
       "      <td>2</td>\n",
       "      <td>0</td>\n",
       "      <td>3</td>\n",
       "      <td>530</td>\n",
       "      <td>2</td>\n",
       "      <td>767212</td>\n",
       "      <td>2</td>\n",
       "      <td>7</td>\n",
       "      <td>3.0</td>\n",
       "      <td>8.0</td>\n",
       "      <td>23.0</td>\n",
       "      <td>2.855835</td>\n",
       "      <td>3.540045</td>\n",
       "      <td>0</td>\n",
       "      <td>0</td>\n",
       "      <td>1</td>\n",
       "    </tr>\n",
       "    <tr>\n",
       "      <td>1179</td>\n",
       "      <td>3519381</td>\n",
       "      <td>2</td>\n",
       "      <td>0</td>\n",
       "      <td>3</td>\n",
       "      <td>667</td>\n",
       "      <td>2</td>\n",
       "      <td>817944</td>\n",
       "      <td>2</td>\n",
       "      <td>7</td>\n",
       "      <td>2.0</td>\n",
       "      <td>6.0</td>\n",
       "      <td>7.0</td>\n",
       "      <td>2.658929</td>\n",
       "      <td>2.307278</td>\n",
       "      <td>0</td>\n",
       "      <td>0</td>\n",
       "      <td>1</td>\n",
       "    </tr>\n",
       "    <tr>\n",
       "      <td>1180</td>\n",
       "      <td>3671789</td>\n",
       "      <td>1</td>\n",
       "      <td>0</td>\n",
       "      <td>3</td>\n",
       "      <td>661</td>\n",
       "      <td>2</td>\n",
       "      <td>699783</td>\n",
       "      <td>2</td>\n",
       "      <td>7</td>\n",
       "      <td>3.0</td>\n",
       "      <td>6.0</td>\n",
       "      <td>7.0</td>\n",
       "      <td>2.463277</td>\n",
       "      <td>1.641464</td>\n",
       "      <td>0</td>\n",
       "      <td>0</td>\n",
       "      <td>1</td>\n",
       "    </tr>\n",
       "    <tr>\n",
       "      <td>1181</td>\n",
       "      <td>3233617</td>\n",
       "      <td>2</td>\n",
       "      <td>0</td>\n",
       "      <td>3</td>\n",
       "      <td>419</td>\n",
       "      <td>2</td>\n",
       "      <td>554850</td>\n",
       "      <td>2</td>\n",
       "      <td>7</td>\n",
       "      <td>2.0</td>\n",
       "      <td>3.0</td>\n",
       "      <td>5.0</td>\n",
       "      <td>5.139130</td>\n",
       "      <td>8.641995</td>\n",
       "      <td>0</td>\n",
       "      <td>0</td>\n",
       "      <td>1</td>\n",
       "    </tr>\n",
       "    <tr>\n",
       "      <td>1182</td>\n",
       "      <td>3044541</td>\n",
       "      <td>5</td>\n",
       "      <td>3</td>\n",
       "      <td>3</td>\n",
       "      <td>838</td>\n",
       "      <td>2</td>\n",
       "      <td>2781351</td>\n",
       "      <td>3</td>\n",
       "      <td>8</td>\n",
       "      <td>1.0</td>\n",
       "      <td>12.0</td>\n",
       "      <td>14.0</td>\n",
       "      <td>3.108664</td>\n",
       "      <td>4.310036</td>\n",
       "      <td>0</td>\n",
       "      <td>1</td>\n",
       "      <td>0</td>\n",
       "    </tr>\n",
       "    <tr>\n",
       "      <td>1183</td>\n",
       "      <td>3461377</td>\n",
       "      <td>3</td>\n",
       "      <td>2</td>\n",
       "      <td>3</td>\n",
       "      <td>1172</td>\n",
       "      <td>2</td>\n",
       "      <td>3667187</td>\n",
       "      <td>3</td>\n",
       "      <td>8</td>\n",
       "      <td>2.0</td>\n",
       "      <td>3.0</td>\n",
       "      <td>4.0</td>\n",
       "      <td>1.954074</td>\n",
       "      <td>1.591696</td>\n",
       "      <td>0</td>\n",
       "      <td>1</td>\n",
       "      <td>0</td>\n",
       "    </tr>\n",
       "    <tr>\n",
       "      <td>1184</td>\n",
       "      <td>3286145</td>\n",
       "      <td>3</td>\n",
       "      <td>1</td>\n",
       "      <td>3</td>\n",
       "      <td>867</td>\n",
       "      <td>2</td>\n",
       "      <td>2327950</td>\n",
       "      <td>3</td>\n",
       "      <td>8</td>\n",
       "      <td>3.0</td>\n",
       "      <td>4.0</td>\n",
       "      <td>7.0</td>\n",
       "      <td>2.223164</td>\n",
       "      <td>1.571826</td>\n",
       "      <td>0</td>\n",
       "      <td>1</td>\n",
       "      <td>0</td>\n",
       "    </tr>\n",
       "    <tr>\n",
       "      <td>1185</td>\n",
       "      <td>3136629</td>\n",
       "      <td>2</td>\n",
       "      <td>0</td>\n",
       "      <td>3</td>\n",
       "      <td>2551</td>\n",
       "      <td>3</td>\n",
       "      <td>5254312</td>\n",
       "      <td>3</td>\n",
       "      <td>9</td>\n",
       "      <td>1.0</td>\n",
       "      <td>2.0</td>\n",
       "      <td>3.0</td>\n",
       "      <td>1.427052</td>\n",
       "      <td>1.170615</td>\n",
       "      <td>0</td>\n",
       "      <td>1</td>\n",
       "      <td>0</td>\n",
       "    </tr>\n",
       "  </tbody>\n",
       "</table>\n",
       "</div>"
      ],
      "text/plain": [
       "      user_id  NextPurchaseDay  Recency  RecencyCluster  Frequency  \\\n",
       "1176  3100725                2        0               3        909   \n",
       "1177  3081689                2        1               3        495   \n",
       "1178  3819353                2        0               3        530   \n",
       "1179  3519381                2        0               3        667   \n",
       "1180  3671789                1        0               3        661   \n",
       "1181  3233617                2        0               3        419   \n",
       "1182  3044541                5        3               3        838   \n",
       "1183  3461377                3        2               3       1172   \n",
       "1184  3286145                3        1               3        867   \n",
       "1185  3136629                2        0               3       2551   \n",
       "\n",
       "      FrequencyCluster  order_value  RevenueCluster  OverallScore  DayDiff  \\\n",
       "1176                 2       757992               2             7      7.0   \n",
       "1177                 2       951162               2             7      6.0   \n",
       "1178                 2       767212               2             7      3.0   \n",
       "1179                 2       817944               2             7      2.0   \n",
       "1180                 2       699783               2             7      3.0   \n",
       "1181                 2       554850               2             7      2.0   \n",
       "1182                 2      2781351               3             8      1.0   \n",
       "1183                 2      3667187               3             8      2.0   \n",
       "1184                 2      2327950               3             8      3.0   \n",
       "1185                 3      5254312               3             9      1.0   \n",
       "\n",
       "      DayDiff2  DayDiff3  DayDiffMean  DayDiffStd  Segment_High-Value  \\\n",
       "1176       8.0       9.0     2.622517    1.817764                   0   \n",
       "1177       7.0      11.0     4.336245    3.641548                   0   \n",
       "1178       8.0      23.0     2.855835    3.540045                   0   \n",
       "1179       6.0       7.0     2.658929    2.307278                   0   \n",
       "1180       6.0       7.0     2.463277    1.641464                   0   \n",
       "1181       3.0       5.0     5.139130    8.641995                   0   \n",
       "1182      12.0      14.0     3.108664    4.310036                   0   \n",
       "1183       3.0       4.0     1.954074    1.591696                   0   \n",
       "1184       4.0       7.0     2.223164    1.571826                   0   \n",
       "1185       2.0       3.0     1.427052    1.170615                   0   \n",
       "\n",
       "      Segment_Low-Value  Segment_Mid-Value  \n",
       "1176                  0                  1  \n",
       "1177                  0                  1  \n",
       "1178                  0                  1  \n",
       "1179                  0                  1  \n",
       "1180                  0                  1  \n",
       "1181                  0                  1  \n",
       "1182                  1                  0  \n",
       "1183                  1                  0  \n",
       "1184                  1                  0  \n",
       "1185                  1                  0  "
      ]
     },
     "execution_count": 82,
     "metadata": {},
     "output_type": "execute_result"
    }
   ],
   "source": [
    "tx_class.tail(10)"
   ]
  },
  {
   "cell_type": "code",
   "execution_count": 83,
   "metadata": {},
   "outputs": [
    {
     "data": {
      "text/plain": [
       "count    1186.000000\n",
       "mean       18.997470\n",
       "std        54.535979\n",
       "min         1.000000\n",
       "25%         4.000000\n",
       "50%         7.000000\n",
       "75%        14.000000\n",
       "max      1156.000000\n",
       "Name: NextPurchaseDay, dtype: float64"
      ]
     },
     "execution_count": 83,
     "metadata": {},
     "output_type": "execute_result"
    }
   ],
   "source": [
    "tx_user.NextPurchaseDay.describe()"
   ]
  },
  {
   "cell_type": "code",
   "execution_count": 84,
   "metadata": {},
   "outputs": [],
   "source": [
    "tx_class['NextPurchaseDayRange'] = 2\n",
    "tx_class.loc[tx_class.NextPurchaseDay>3,'NextPurchaseDayRange'] = 1\n",
    "tx_class.loc[tx_class.NextPurchaseDay>7,'NextPurchaseDayRange'] = 0"
   ]
  },
  {
   "cell_type": "code",
   "execution_count": 85,
   "metadata": {},
   "outputs": [
    {
     "data": {
      "text/plain": [
       "0    0.498314\n",
       "1    0.335582\n",
       "2    0.166105\n",
       "Name: NextPurchaseDayRange, dtype: float64"
      ]
     },
     "execution_count": 85,
     "metadata": {},
     "output_type": "execute_result"
    }
   ],
   "source": [
    "tx_class.NextPurchaseDayRange.value_counts()/len(tx_user)"
   ]
  },
  {
   "cell_type": "code",
   "execution_count": 86,
   "metadata": {
    "scrolled": true
   },
   "outputs": [
    {
     "data": {
      "text/plain": [
       "<matplotlib.axes._subplots.AxesSubplot at 0x192c1228dc8>"
      ]
     },
     "execution_count": 86,
     "metadata": {},
     "output_type": "execute_result"
    },
    {
     "data": {
      "image/png": "[encoded data removed]",
      "text/plain": [
       "<Figure size 2160x1440 with 2 Axes>"
      ]
     },
     "metadata": {
      "needs_background": "light"
     },
     "output_type": "display_data"
    }
   ],
   "source": [
    "corr = tx_class[tx_class.columns].corr()\n",
    "plt.figure(figsize = (30,20))\n",
    "sns.heatmap(corr, annot = True, linewidths=0.2, fmt=\".2f\")"
   ]
  },
  {
   "cell_type": "code",
   "execution_count": 87,
   "metadata": {},
   "outputs": [],
   "source": [
    "tx_class = tx_class.drop('NextPurchaseDay',axis=1)"
   ]
  },
  {
   "cell_type": "code",
   "execution_count": 88,
   "metadata": {},
   "outputs": [
    {
     "data": {
      "text/plain": [
       "1186"
      ]
     },
     "execution_count": 88,
     "metadata": {},
     "output_type": "execute_result"
    }
   ],
   "source": [
    "len(tx_class)"
   ]
  },
  {
   "cell_type": "code",
   "execution_count": 89,
   "metadata": {},
   "outputs": [],
   "source": [
    "X, y = tx_class.drop('NextPurchaseDayRange',axis=1), tx_class.NextPurchaseDayRange\n",
    "X_train, X_test, y_train, y_test = train_test_split(X, y, test_size=0.3, random_state=44)"
   ]
  },
  {
   "cell_type": "code",
   "execution_count": 90,
   "metadata": {},
   "outputs": [],
   "source": [
    "models = []\n",
    "models.append((\"LR\",LogisticRegression()))\n",
    "models.append((\"NB\",GaussianNB()))\n",
    "models.append((\"RF\",RandomForestClassifier()))\n",
    "models.append((\"SVC\",SVC()))\n",
    "models.append((\"Dtree\",DecisionTreeClassifier()))\n",
    "models.append((\"XGB\",xgb.XGBClassifier()))\n",
    "models.append((\"KNN\",KNeighborsClassifier()))"
   ]
  },
  {
   "cell_type": "code",
   "execution_count": 162,
   "metadata": {},
   "outputs": [
    {
     "name": "stdout",
     "output_type": "stream",
     "text": [
      "LR [0.60240964 0.5686747 ]\n",
      "NB [0.41204819 0.55180723]\n",
      "RF [0.68192771 0.64819277]\n",
      "SVC [0.48674699 0.4939759 ]\n",
      "Dtree [0.60722892 0.66024096]\n",
      "XGB [0.67951807 0.6746988 ]\n",
      "KNN [0.48192771 0.50361446]\n"
     ]
    }
   ],
   "source": [
    "for name,model in models:\n",
    "    kfold = KFold(n_splits=2, random_state=44)\n",
    "    cv_result = cross_val_score(model,X_train,y_train, cv = kfold,scoring = \"accuracy\")\n",
    "    print(name, cv_result)"
   ]
  },
  {
   "cell_type": "code",
   "execution_count": 92,
   "metadata": {},
   "outputs": [
    {
     "name": "stdout",
     "output_type": "stream",
     "text": [
      "Accuracy of XGB classifier on training set: 1.00\n",
      "Accuracy of XGB classifier on test set: 0.65\n"
     ]
    }
   ],
   "source": [
    "xgb_model = xgb.XGBClassifier().fit(X_train, y_train)\n",
    "\n",
    "print('Accuracy of XGB classifier on training set: {:.2f}'\n",
    "       .format(xgb_model.score(X_train, y_train)))\n",
    "print('Accuracy of XGB classifier on test set: {:.2f}'\n",
    "       .format(xgb_model.score(X_test[X_train.columns], y_test)))\n",
    "\n"
   ]
  },
  {
   "cell_type": "code",
   "execution_count": 93,
   "metadata": {},
   "outputs": [],
   "source": [
    "y_pred = xgb_model.predict(X_test)"
   ]
  },
  {
   "cell_type": "code",
   "execution_count": 94,
   "metadata": {},
   "outputs": [
    {
     "name": "stdout",
     "output_type": "stream",
     "text": [
      "              precision    recall  f1-score   support\n",
      "\n",
      "           0       0.78      0.79      0.79       184\n",
      "           1       0.51      0.49      0.50       116\n",
      "           2       0.52      0.55      0.53        56\n",
      "\n",
      "    accuracy                           0.65       356\n",
      "   macro avg       0.60      0.61      0.61       356\n",
      "weighted avg       0.65      0.65      0.65       356\n",
      "\n"
     ]
    }
   ],
   "source": [
    "print (classification_report(y_test, y_pred))"
   ]
  },
  {
   "cell_type": "code",
   "execution_count": 166,
   "metadata": {},
   "outputs": [
    {
     "data": {
      "text/plain": [
       "({'max_depth': 5, 'min_child_weight': 1, 'n_estimators': 50},\n",
       " 0.6879354793756968)"
      ]
     },
     "execution_count": 166,
     "metadata": {},
     "output_type": "execute_result"
    }
   ],
   "source": [
    "from sklearn.model_selection import GridSearchCV\n",
    "\n",
    "param_test1 = {\n",
    " 'max_depth':range(1,11,2),\n",
    " 'min_child_weight':range(1,10,2),\n",
    " 'n_estimators':range(50,800,10)   \n",
    "}\n",
    "gsearch1 = GridSearchCV(estimator = xgb.XGBClassifier(), \n",
    "            param_grid = param_test1, scoring='accuracy',n_jobs=None,iid=False, cv=2)\n",
    "gsearch1.fit(X_train,y_train)\n",
    "gsearch1.best_params_, gsearch1.best_score_"
   ]
  },
  {
   "cell_type": "code",
   "execution_count": 163,
   "metadata": {},
   "outputs": [
    {
     "name": "stdout",
     "output_type": "stream",
     "text": [
      "Accuracy of XGB classifier on training set: 1.00\n",
      "Accuracy of XGB classifier on test set: 0.67\n"
     ]
    }
   ],
   "source": [
    "xgb_model = xgb.XGBClassifier(max_depth=5, min_child_weight=1, n_estimators=50).fit(X_train, y_train)\n",
    "\n",
    "print('Accuracy of XGB classifier on training set: {:.2f}'\n",
    "       .format(xgb_model.score(X_train, y_train)))\n",
    "print('Accuracy of XGB classifier on test set: {:.2f}'\n",
    "       .format(xgb_model.score(X_test[X_train.columns], y_test)))"
   ]
  },
  {
   "cell_type": "code",
   "execution_count": 164,
   "metadata": {},
   "outputs": [],
   "source": [
    "y_pred = xgb_model.predict(X_test)"
   ]
  },
  {
   "cell_type": "code",
   "execution_count": 165,
   "metadata": {},
   "outputs": [
    {
     "name": "stdout",
     "output_type": "stream",
     "text": [
      "              precision    recall  f1-score   support\n",
      "\n",
      "           0       0.79      0.80      0.80       184\n",
      "           1       0.53      0.52      0.52       116\n",
      "           2       0.54      0.54      0.54        56\n",
      "\n",
      "    accuracy                           0.67       356\n",
      "   macro avg       0.62      0.62      0.62       356\n",
      "weighted avg       0.67      0.67      0.67       356\n",
      "\n"
     ]
    }
   ],
   "source": [
    "print (classification_report(y_test, y_pred))"
   ]
  },
  {
   "cell_type": "code",
   "execution_count": null,
   "metadata": {},
   "outputs": [],
   "source": []
  },
  {
   "cell_type": "code",
   "execution_count": null,
   "metadata": {},
   "outputs": [],
   "source": []
  }
 ],
 "metadata": {
  "kernelspec": {
   "display_name": "Python 3",
   "language": "python",
   "name": "python3"
  },
  "language_info": {
   "codemirror_mode": {
    "name": "ipython",
    "version": 3
   },
   "file_extension": ".py",
   "mimetype": "text/x-python",
   "name": "python",
   "nbconvert_exporter": "python",
   "pygments_lexer": "ipython3",
   "version": "3.7.4"
  }
 },
 "nbformat": 4,
 "nbformat_minor": 2
}
